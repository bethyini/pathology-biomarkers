{
 "cells": [
  {
   "cell_type": "code",
   "execution_count": 2,
   "id": "94da18f5-93f8-4594-b311-3c1f1561340a",
   "metadata": {},
   "outputs": [
    {
     "data": {
      "text/plain": [
       "'/orcd/data/edboyden/002/ezh/uni'"
      ]
     },
     "execution_count": 2,
     "metadata": {},
     "output_type": "execute_result"
    }
   ],
   "source": [
    "%pwd"
   ]
  },
  {
   "cell_type": "code",
   "execution_count": 3,
   "id": "b2c6a16a-6436-4066-abcc-f4da1bf43d36",
   "metadata": {},
   "outputs": [],
   "source": [
    "import pandas as pd"
   ]
  },
  {
   "cell_type": "code",
   "execution_count": 26,
   "id": "0ab1bea8-384e-4808-99bf-d2ef91867ebc",
   "metadata": {},
   "outputs": [],
   "source": [
    "df = pd.read_csv(\"coadread_tcga_clinical_data.tsv\", sep=\"\\t\")\n",
    "\n",
    "# Save it as a CSV file\n",
    "df.to_csv(\"coadread_tcga_clinical_data.csv\", index=False)"
   ]
  },
  {
   "cell_type": "code",
   "execution_count": 1,
   "id": "604a8b0e-048b-4f50-832a-4cac1178e45b",
   "metadata": {},
   "outputs": [
    {
     "data": {
      "text/html": [
       "<div>\n",
       "<style scoped>\n",
       "    .dataframe tbody tr th:only-of-type {\n",
       "        vertical-align: middle;\n",
       "    }\n",
       "\n",
       "    .dataframe tbody tr th {\n",
       "        vertical-align: top;\n",
       "    }\n",
       "\n",
       "    .dataframe thead th {\n",
       "        text-align: right;\n",
       "    }\n",
       "</style>\n",
       "<table border=\"1\" class=\"dataframe\">\n",
       "  <thead>\n",
       "    <tr style=\"text-align: right;\">\n",
       "      <th></th>\n",
       "      <th>SAMPLE_ID</th>\n",
       "      <th>ERBB2</th>\n",
       "      <th>HER2_Amp</th>\n",
       "    </tr>\n",
       "  </thead>\n",
       "  <tbody>\n",
       "    <tr>\n",
       "      <th>0</th>\n",
       "      <td>TCGA-F5-6861-01</td>\n",
       "      <td>4736.6678</td>\n",
       "      <td>0</td>\n",
       "    </tr>\n",
       "    <tr>\n",
       "      <th>1</th>\n",
       "      <td>TCGA-EI-6509-01</td>\n",
       "      <td>511917.4691</td>\n",
       "      <td>1</td>\n",
       "    </tr>\n",
       "    <tr>\n",
       "      <th>2</th>\n",
       "      <td>TCGA-F5-6864-01</td>\n",
       "      <td>7501.1355</td>\n",
       "      <td>1</td>\n",
       "    </tr>\n",
       "    <tr>\n",
       "      <th>3</th>\n",
       "      <td>TCGA-DC-6155-01</td>\n",
       "      <td>2457.5163</td>\n",
       "      <td>0</td>\n",
       "    </tr>\n",
       "    <tr>\n",
       "      <th>4</th>\n",
       "      <td>TCGA-AH-6547-01</td>\n",
       "      <td>4242.6181</td>\n",
       "      <td>0</td>\n",
       "    </tr>\n",
       "  </tbody>\n",
       "</table>\n",
       "</div>"
      ],
      "text/plain": [
       "         SAMPLE_ID        ERBB2  HER2_Amp\n",
       "0  TCGA-F5-6861-01    4736.6678         0\n",
       "1  TCGA-EI-6509-01  511917.4691         1\n",
       "2  TCGA-F5-6864-01    7501.1355         1\n",
       "3  TCGA-DC-6155-01    2457.5163         0\n",
       "4  TCGA-AH-6547-01    4242.6181         0"
      ]
     },
     "execution_count": 1,
     "metadata": {},
     "output_type": "execute_result"
    }
   ],
   "source": [
    "import pandas as pd\n",
    "\n",
    "# Load the CSV file\n",
    "df = pd.read_csv('coadread_tcga_clinical_data.csv')  # Replace with your actual file path\n",
    "\n",
    "df.head()"
   ]
  },
  {
   "cell_type": "code",
   "execution_count": 7,
   "id": "9786dcda-ec4e-4c13-b7b4-f555c0a79a46",
   "metadata": {},
   "outputs": [],
   "source": [
    "df = df.rename(columns={\"SAMPLE ID\": \"Sample_ID\"})"
   ]
  },
  {
   "cell_type": "code",
   "execution_count": 8,
   "id": "503375d0-8e6c-47e8-ac42-8452de197178",
   "metadata": {},
   "outputs": [
    {
     "name": "stdout",
     "output_type": "stream",
     "text": [
      "Index(['Sample_ID', 'ERBB2', 'HER2_Amp'], dtype='object')\n"
     ]
    }
   ],
   "source": [
    "print(df.columns)"
   ]
  },
  {
   "cell_type": "code",
   "execution_count": 30,
   "id": "d96994be-7b88-42b4-a354-97b0ba50f8c3",
   "metadata": {},
   "outputs": [
    {
     "name": "stdout",
     "output_type": "stream",
     "text": [
      "         Sample_ID  \\\n",
      "0  TCGA-3L-AA1B-01   \n",
      "1  TCGA-4N-A93T-01   \n",
      "2  TCGA-4T-AA8H-01   \n",
      "3  TCGA-5M-AAT4-01   \n",
      "4  TCGA-5M-AAT5-01   \n",
      "5  TCGA-5M-AAT6-01   \n",
      "6  TCGA-5M-AATA-01   \n",
      "7  TCGA-5M-AATE-01   \n",
      "8  TCGA-A6-2670-01   \n",
      "9  TCGA-A6-2671-01   \n",
      "\n",
      "  Neoplasm Disease Lymph Node Stage American Joint Committee on Cancer Code  \n",
      "0                                                 N0                         \n",
      "1                                                N1b                         \n",
      "2                                                 N0                         \n",
      "3                                                 N0                         \n",
      "4                                                NaN                         \n",
      "5                                                N2b                         \n",
      "6                                                NaN                         \n",
      "7                                                 N0                         \n",
      "8                                                 N0                         \n",
      "9                                                 N2                         \n"
     ]
    }
   ],
   "source": [
    "\n",
    "df = df[['Sample_ID', \"Neoplasm Disease Lymph Node Stage American Joint Committee on Cancer Code\"]]  # Keep only these columns\n",
    "print(df.head(10))"
   ]
  },
  {
   "cell_type": "code",
   "execution_count": 9,
   "id": "f724428c-34fe-47d6-9c59-d67e0606d252",
   "metadata": {},
   "outputs": [
    {
     "name": "stdout",
     "output_type": "stream",
     "text": [
      "      Sample_ID        ERBB2  HER2_Amp\n",
      "0  TCGA-F5-6861    4736.6678         0\n",
      "1  TCGA-EI-6509  511917.4691         1\n",
      "2  TCGA-F5-6864    7501.1355         1\n",
      "3  TCGA-DC-6155    2457.5163         0\n",
      "4  TCGA-AH-6547    4242.6181         0\n",
      "5  TCGA-AF-2687    2646.6582         0\n",
      "6  TCGA-EI-6513    4822.8883         1\n",
      "7  TCGA-AF-6655    2812.6769         0\n",
      "8  TCGA-DC-6157    5318.3408         1\n",
      "9  TCGA-AF-A56K    6662.3084         1\n"
     ]
    }
   ],
   "source": [
    "# remove the -01\n",
    "df['Sample_ID'] = df['Sample_ID'].str.replace(r'-01$', '', regex=True)\n",
    "print(df.head(10))"
   ]
  },
  {
   "cell_type": "code",
   "execution_count": 20,
   "id": "6dd5469c-dec7-4af5-ab41-fa68a6090176",
   "metadata": {},
   "outputs": [
    {
     "name": "stdout",
     "output_type": "stream",
     "text": [
      "      Sample_ID Perineural Invasion\n",
      "0  TCGA-3L-AA1B                   0\n",
      "1  TCGA-4N-A93T                   0\n",
      "2  TCGA-4T-AA8H                   0\n",
      "3  TCGA-5M-AAT4                 NaN\n",
      "4  TCGA-5M-AAT5                 NaN\n",
      "5  TCGA-5M-AAT6                   1\n",
      "6  TCGA-5M-AATA                 NaN\n",
      "7  TCGA-5M-AATE                   0\n",
      "8  TCGA-A6-2670                 NaN\n",
      "9  TCGA-A6-2671                 NaN\n"
     ]
    }
   ],
   "source": [
    "# Create a new binary BRAF column\n",
    "# Initialize all values to 0\n",
    "# df['BRAF'] = 0\n",
    "\n",
    "df.loc[df['Perineural Invasion'].str.contains('YES', case=False, na=False), 'Perineural Invasion'] = 1\n",
    "df.loc[df['Perineural Invasion'].str.contains('NO', case=False, na=False), 'Perineural Invasion'] = 0\n",
    "\n",
    "# Display the first few rows to verify\n",
    "\n",
    "df = df[['Sample_ID', \"Perineural Invasion\"]]  # Keep only these columns\n",
    "print(df.head(10))"
   ]
  },
  {
   "cell_type": "code",
   "execution_count": 10,
   "id": "f77ec843-f480-401c-ad0b-3111201c6f64",
   "metadata": {},
   "outputs": [],
   "source": [
    "# Save the modified dataframe to a new CSV\n",
    "df.to_csv('perineural_invasion.csv', index=False)"
   ]
  },
  {
   "cell_type": "code",
   "execution_count": 18,
   "id": "62d6f34b-3ebe-4848-948b-57414ab39ca4",
   "metadata": {},
   "outputs": [],
   "source": [
    "import os\n",
    "import h5py\n",
    "import pandas as pd\n",
    "\n",
    "# Path to folder containing H5 files\n",
    "h5_dir = \"CLAM/TCGA-COAD_h5/\"\n",
    "results = []\n",
    "\n",
    "# Loop through all .h5 files in directory\n",
    "for fname in os.listdir(h5_dir):\n",
    "    if fname.endswith(\".h5\"):\n",
    "        # print(\"here\")\n",
    "        h5_path = os.path.join(h5_dir, fname)\n",
    "        sample_id = fname.replace(\".h5\", \"\")\n",
    "\n",
    "        try:\n",
    "            with h5py.File(h5_path, \"r\") as f:\n",
    "                if \"mmr_status\" in f:\n",
    "                    \n",
    "                    msi_value = f[\"mmr_status\"][()]\n",
    "                    if isinstance(msi_value, bytes):  # in case it's stored as a byte string\n",
    "                        msi_value = msi_value.decode()\n",
    "\n",
    "                    # Some values might be arrays, so handle that\n",
    "                    if isinstance(msi_value, (list, tuple)) or hasattr(msi_value, \"__len__\"):\n",
    "                        msi_value = msi_value[0]\n",
    "\n",
    "                    # Filter for binary 0 or 1\n",
    "                    if msi_value in [0, 1, '0', '1', 0.0, 1.0]:\n",
    "                        results.append({\n",
    "                            \"Sample_ID\": sample_id,\n",
    "                            \"mmr_status\": int(msi_value)\n",
    "                        })\n",
    "\n",
    "        except Exception as e:\n",
    "            print(f\"Failed to read {h5_path}: {e}\")\n",
    "\n",
    "# Save to CSV\n",
    "df = pd.DataFrame(results)\n",
    "df.to_csv(\"msi_status.csv\", index=False)\n"
   ]
  },
  {
   "cell_type": "code",
   "execution_count": 2,
   "id": "1e6e06af-8935-44a3-a78e-ed678e016190",
   "metadata": {},
   "outputs": [
    {
     "data": {
      "text/html": [
       "<div>\n",
       "<style scoped>\n",
       "    .dataframe tbody tr th:only-of-type {\n",
       "        vertical-align: middle;\n",
       "    }\n",
       "\n",
       "    .dataframe tbody tr th {\n",
       "        vertical-align: top;\n",
       "    }\n",
       "\n",
       "    .dataframe thead th {\n",
       "        text-align: right;\n",
       "    }\n",
       "</style>\n",
       "<table border=\"1\" class=\"dataframe\">\n",
       "  <thead>\n",
       "    <tr style=\"text-align: right;\">\n",
       "      <th></th>\n",
       "      <th>slide</th>\n",
       "      <th>magnification</th>\n",
       "      <th>Sample_ID</th>\n",
       "    </tr>\n",
       "  </thead>\n",
       "  <tbody>\n",
       "    <tr>\n",
       "      <th>0</th>\n",
       "      <td>TCGA-F4-6463-01Z-00-DX1.a3fa6fb4-ce9d-4f0d-b5f...</td>\n",
       "      <td>40.0</td>\n",
       "      <td>TCGA-F4-6463</td>\n",
       "    </tr>\n",
       "    <tr>\n",
       "      <th>1</th>\n",
       "      <td>TCGA-AA-3561-01Z-00-DX1.1b5a2925-53f9-470f-a62...</td>\n",
       "      <td>20.0</td>\n",
       "      <td>TCGA-AA-3561</td>\n",
       "    </tr>\n",
       "    <tr>\n",
       "      <th>2</th>\n",
       "      <td>TCGA-AA-A02E-01Z-00-DX1.04D47621-9DCF-437C-A4D...</td>\n",
       "      <td>20.0</td>\n",
       "      <td>TCGA-AA-A02E</td>\n",
       "    </tr>\n",
       "    <tr>\n",
       "      <th>3</th>\n",
       "      <td>TCGA-AA-A01C-01Z-00-DX1.C69C8FC3-04A2-46B8-857...</td>\n",
       "      <td>20.0</td>\n",
       "      <td>TCGA-AA-A01C</td>\n",
       "    </tr>\n",
       "    <tr>\n",
       "      <th>4</th>\n",
       "      <td>TCGA-AZ-6607-01Z-00-DX1.b0a25161-7e13-42d6-927...</td>\n",
       "      <td>40.0</td>\n",
       "      <td>TCGA-AZ-6607</td>\n",
       "    </tr>\n",
       "  </tbody>\n",
       "</table>\n",
       "</div>"
      ],
      "text/plain": [
       "                                               slide  magnification  \\\n",
       "0  TCGA-F4-6463-01Z-00-DX1.a3fa6fb4-ce9d-4f0d-b5f...           40.0   \n",
       "1  TCGA-AA-3561-01Z-00-DX1.1b5a2925-53f9-470f-a62...           20.0   \n",
       "2  TCGA-AA-A02E-01Z-00-DX1.04D47621-9DCF-437C-A4D...           20.0   \n",
       "3  TCGA-AA-A01C-01Z-00-DX1.C69C8FC3-04A2-46B8-857...           20.0   \n",
       "4  TCGA-AZ-6607-01Z-00-DX1.b0a25161-7e13-42d6-927...           40.0   \n",
       "\n",
       "      Sample_ID  \n",
       "0  TCGA-F4-6463  \n",
       "1  TCGA-AA-3561  \n",
       "2  TCGA-AA-A02E  \n",
       "3  TCGA-AA-A01C  \n",
       "4  TCGA-AZ-6607  "
      ]
     },
     "execution_count": 2,
     "metadata": {},
     "output_type": "execute_result"
    }
   ],
   "source": [
    "import pandas as pd\n",
    "\n",
    "# Load the CSV (change path as needed)\n",
    "df = pd.read_csv(\"magnifications.csv\")\n",
    "\n",
    "# Extract sample ID (first 3 parts of the slide name)\n",
    "def extract_sample_id(slide_name):\n",
    "    if isinstance(slide_name, str) and \"DX1\" in slide_name:\n",
    "        parts = slide_name.split(\"-\")\n",
    "        return \"-\".join(parts[:3])\n",
    "    return None  # or keep as is\n",
    "\n",
    "# Create new column\n",
    "df[\"Sample_ID\"] = df[\"slide\"].apply(extract_sample_id)\n",
    "\n",
    "# Save or inspect\n",
    "df.to_csv(\"magnifications.csv\", index=False)\n",
    "df.head()"
   ]
  }
 ],
 "metadata": {
  "kernelspec": {
   "display_name": "CLAM",
   "language": "python",
   "name": "clam_latest"
  },
  "language_info": {
   "codemirror_mode": {
    "name": "ipython",
    "version": 3
   },
   "file_extension": ".py",
   "mimetype": "text/x-python",
   "name": "python",
   "nbconvert_exporter": "python",
   "pygments_lexer": "ipython3",
   "version": "3.10.0"
  }
 },
 "nbformat": 4,
 "nbformat_minor": 5
}
