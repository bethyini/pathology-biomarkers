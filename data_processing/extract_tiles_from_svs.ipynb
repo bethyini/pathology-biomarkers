{
 "cells": [
  {
   "cell_type": "code",
   "execution_count": 1,
   "id": "65c4e5fd-228d-4866-bfa4-f5c7a1399609",
   "metadata": {},
   "outputs": [
    {
     "data": {
      "text/plain": [
       "'/orcd/data/edboyden/002/ezh/uni'"
      ]
     },
     "execution_count": 1,
     "metadata": {},
     "output_type": "execute_result"
    }
   ],
   "source": [
    "%pwd\n"
   ]
  },
  {
   "cell_type": "code",
   "execution_count": 18,
   "id": "507800b9-9478-4233-85b4-aafe056709c9",
   "metadata": {},
   "outputs": [],
   "source": [
    "import os\n",
    "import glob\n",
    "import openslide\n",
    "from PIL import Image\n",
    "from tqdm.notebook import tqdm\n",
    "from concurrent.futures import ThreadPoolExecutor\n",
    "\n",
    "input_dir  = \"diff_svs_flat\"\n",
    "output_dir = \"all_virchow_tiles\"\n",
    "level      = 1      # Openslide pyramid level (0 is highest resolution)\n",
    "tile_size  = 224    # pixels\n",
    "overlap    = 0      # pixels of overlap between tiles\n",
    "max_workers = 20    # adjust based on number of cpus\n",
    "\n",
    "os.makedirs(output_dir, exist_ok=True)"
   ]
  },
  {
   "cell_type": "code",
   "execution_count": 19,
   "id": "9584caac-492a-437e-8433-2850e36ff7e7",
   "metadata": {},
   "outputs": [],
   "source": [
    "slide_paths = glob.glob(os.path.join(input_dir, \"*.svs\"))\n",
    "if not slide_paths:\n",
    "    raise FileNotFoundError(f\"No SVS files found in {input_dir}\")"
   ]
  },
  {
   "cell_type": "code",
   "execution_count": 20,
   "id": "fb10bfed-5d8f-4da0-865e-626467b3485d",
   "metadata": {},
   "outputs": [],
   "source": [
    "def extract_tiles_from_slide(slide_path):\n",
    "    slide_name = os.path.splitext(os.path.basename(slide_path))[0]\n",
    "    slide      = openslide.OpenSlide(slide_path)\n",
    "    W, H       = slide.level_dimensions[level]\n",
    "    stride     = tile_size - overlap\n",
    "\n",
    "    coords = [(x, y)\n",
    "              for y in range(0, H, stride)\n",
    "              for x in range(0, W, stride)]\n",
    "\n",
    "    print(f\"\\n→ Extracting {len(coords)} tiles from '{slide_name}' at level {level}\")\n",
    "\n",
    "    def save_tile(coord):\n",
    "        x, y = coord\n",
    "        tile = slide.read_region((x, y), level, (tile_size, tile_size)).convert(\"RGB\")\n",
    "        fname = f\"{slide_name}_L{level}_{x}_{y}.png\"\n",
    "        os.makedirs(os.path.join(output_dir, slide_name), exist_ok=True)\n",
    "        tile.save(os.path.join(output_dir, slide_name, fname))\n",
    "\n",
    "    with ThreadPoolExecutor(max_workers=max_workers) as executor:\n",
    "        for _ in tqdm(\n",
    "            executor.map(save_tile, coords),\n",
    "            total=len(coords),\n",
    "            desc=slide_name\n",
    "        ):\n",
    "            pass\n",
    "\n",
    "    slide.close()"
   ]
  },
  {
   "cell_type": "code",
   "execution_count": null,
   "id": "8d06b1ce-faaf-4646-ba51-d05a944f97cc",
   "metadata": {},
   "outputs": [],
   "source": [
    "for slide_path in slide_paths:\n",
    "    slide_name = os.path.splitext(os.path.basename(slide_path))[0]\n",
    "    slide_out_dir = os.path.join(output_dir, slide_name)\n",
    "\n",
    "    if os.path.isdir(slide_out_dir):\n",
    "        print(f\"Skipping '{slide_name}' — tiles already exist.\")\n",
    "        continue\n",
    "\n",
    "    extract_tiles_from_slide(slide_path)\n",
    "\n",
    "print(\"\\nAll done!\")"
   ]
  }
 ],
 "metadata": {
  "kernelspec": {
   "display_name": "CLAM",
   "language": "python",
   "name": "clam_latest"
  },
  "language_info": {
   "codemirror_mode": {
    "name": "ipython",
    "version": 3
   },
   "file_extension": ".py",
   "mimetype": "text/x-python",
   "name": "python",
   "nbconvert_exporter": "python",
   "pygments_lexer": "ipython3",
   "version": "3.10.0"
  }
 },
 "nbformat": 4,
 "nbformat_minor": 5
}
