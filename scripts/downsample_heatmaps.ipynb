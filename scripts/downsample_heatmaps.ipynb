{
 "cells": [
  {
   "cell_type": "code",
   "execution_count": 6,
   "id": "ca6657c5-727a-49e2-827e-ccb69c874000",
   "metadata": {},
   "outputs": [
    {
     "name": "stdout",
     "output_type": "stream",
     "text": [
      "TCGA-AA-3877_blank_heatmap_braf_msi_positive.png: 2140×2910 → 1498×2036\n",
      "TCGA-A6-2672_blank_heatmap_braf_msi_positive.png: 1001×2910 → 700×2036\n",
      "TCGA-AA-A022_overlay_braf_msi_positive.png: 3632×5552 → 2542×3886\n",
      "TCGA-AA-A022_blank_heatmap_braf_msi_positive.png: 1903×2910 → 1332×2036\n",
      "TCGA-AA-A01P_overlay_braf_msi_positive.png: 6032×7920 → 4222×5544\n",
      "TCGA-AA-3821_overlay_braf_msi_positive.png: 6032×5360 → 4222×3751\n",
      "TCGA-AA-3525_overlay_braf_msi_positive.png: 2960×3792 → 2072×2654\n",
      "TCGA-AA-3877_overlay_braf_msi_positive.png: 5072×6896 → 3550×4827\n",
      "TCGA-AA-A01P_blank_heatmap_braf_msi_positive.png: 2216×2910 → 1551×2036\n",
      "TCGA-AA-3516_blank_heatmap_braf_msi_positive.png: 1020×2910 → 714×2036\n",
      "TCGA-AA-3949_overlay_braf_msi_positive.png: 3120×6928 → 2184×4849\n",
      "TCGA-AA-3516_overlay_braf_msi_positive.png: 3024×8624 → 2116×6036\n",
      "TCGA-AA-3821_blank_heatmap_braf_msi_positive.png: 3274×2910 → 2291×2036\n",
      "TCGA-AA-3966_blank_heatmap_braf_msi_positive.png: 2503×2910 → 1752×2036\n",
      "TCGA-AA-3947_blank_heatmap_braf_msi_positive.png: 1678×2910 → 1174×2036\n",
      "TCGA-AA-3966_overlay_braf_msi_positive.png: 5520×6416 → 3863×4491\n",
      "TCGA-AA-A00J_blank_heatmap_braf_msi_positive.png: 1840×2910 → 1288×2036\n",
      "TCGA-AA-3525_blank_heatmap_braf_msi_positive.png: 2271×2910 → 1589×2036\n",
      "TCGA-AA-3715_overlay_braf_msi_positive.png: 5968×3856 → 4177×2699\n",
      "TCGA-AA-3543_blank_heatmap_braf_msi_positive.png: 2235×2910 → 1564×2036\n",
      "TCGA-AA-A00J_overlay_braf_msi_positive.png: 5008×7920 → 3505×5544\n",
      "TCGA-AA-3949_blank_heatmap_braf_msi_positive.png: 1310×2910 → 916×2036\n",
      "TCGA-AA-3833_blank_heatmap_braf_msi_positive.png: 3917×2910 → 2741×2036\n",
      "TCGA-A6-2672_overlay_braf_msi_positive.png: 1798×5222 → 1258×3655\n",
      "TCGA-AA-3715_blank_heatmap_braf_msi_positive.png: 4503×2910 → 3152×2036\n",
      "TCGA-AA-3833_overlay_braf_msi_positive.png: 4976×3696 → 3483×2587\n",
      "TCGA-AA-3947_overlay_braf_msi_positive.png: 3792×6576 → 2654×4603\n",
      "TCGA-AA-3543_overlay_braf_msi_positive.png: 2544×3312 → 1780×2318\n",
      "Done! Scaled PNGs are in: CLAM/heatmap_outputs/BRAF_scaled\n"
     ]
    }
   ],
   "source": [
    "# If Pillow isn't installed, uncomment:\n",
    "# !pip install pillow\n",
    "\n",
    "import os\n",
    "from PIL import Image\n",
    "\n",
    "# === User parameters ===\n",
    "input_dir   = 'CLAM/heatmap_outputs/BRAF'               # your source PNG folder\n",
    "output_dir  = 'CLAM/heatmap_outputs/BRAF_scaled'        # folder for resized images\n",
    "scale_factor = 0.7                          # e.g. 0.8 → 80% of original dimensions\n",
    "# =======================\n",
    "\n",
    "os.makedirs(output_dir, exist_ok=True)\n",
    "\n",
    "for fname in os.listdir(input_dir):\n",
    "    if not fname.lower().endswith('.png'):\n",
    "        continue\n",
    "\n",
    "    in_path  = os.path.join(input_dir, fname)\n",
    "    out_path = os.path.join(output_dir, fname)\n",
    "\n",
    "    with Image.open(in_path) as img:\n",
    "        new_w = int(img.width  * scale_factor)\n",
    "        new_h = int(img.height * scale_factor)\n",
    "        resized = img.resize((new_w, new_h), Image.LANCZOS)\n",
    "        resized.save(out_path, optimize=True)\n",
    "\n",
    "    print(f\"{fname}: {img.width}×{img.height} → {new_w}×{new_h}\")\n",
    "\n",
    "print(\"Done! Scaled PNGs are in:\", output_dir)\n"
   ]
  }
 ],
 "metadata": {
  "kernelspec": {
   "display_name": "CLAM",
   "language": "python",
   "name": "clam_latest"
  },
  "language_info": {
   "codemirror_mode": {
    "name": "ipython",
    "version": 3
   },
   "file_extension": ".py",
   "mimetype": "text/x-python",
   "name": "python",
   "nbconvert_exporter": "python",
   "pygments_lexer": "ipython3",
   "version": "3.10.0"
  }
 },
 "nbformat": 4,
 "nbformat_minor": 5
}
