{
 "cells": [
  {
   "cell_type": "code",
   "execution_count": 1,
   "id": "efffd353-4511-421a-b7ae-d2c82d3139a4",
   "metadata": {},
   "outputs": [],
   "source": [
    "import pandas as pd\n",
    "\n",
    "# Load both CSVs\n",
    "mmr_df = pd.read_csv(\"msi_status.csv\")   # Should have columns: Sample_ID, mmr_status\n",
    "braf_df = pd.read_csv(\"braf_clean.csv\")  # Should have columns: Sample_ID, BRAF\n",
    "\n",
    "# Perform inner merge on Sample_ID (keeps only common Sample_IDs)\n",
    "merged = pd.merge(mmr_df, braf_df, on=\"Sample_ID\", how=\"inner\")\n",
    "\n",
    "# Optional: ensure column order\n",
    "merged = merged[[\"Sample_ID\", \"mmr_status\", \"BRAF\"]]\n",
    "\n",
    "merged[\"mmr_braf_positive\"] = ((merged[\"mmr_status\"] == 1) & (merged[\"BRAF\"] == 1)).astype(int)\n",
    "\n",
    "# Save to new CSV\n",
    "merged.to_csv(\"mmr_braf_combined.csv\", index=False)\n"
   ]
  },
  {
   "cell_type": "code",
   "execution_count": 11,
   "id": "73d35f83-9218-4a99-9065-0f7ec349d6ec",
   "metadata": {},
   "outputs": [
    {
     "name": "stdout",
     "output_type": "stream",
     "text": [
      "✅ Found: 207\n",
      "❌ Missing: 169\n"
     ]
    }
   ],
   "source": [
    "import pandas as pd\n",
    "import os\n",
    "\n",
    "# Load HER2 sample IDs\n",
    "her2_df = pd.read_csv(\"her2.csv\")\n",
    "her2_ids = set(her2_df[\"Sample_ID\"].astype(str))\n",
    "\n",
    "# Directory containing files or folders (e.g., tile folders or .h5 files)\n",
    "folder_path = \"virchow_features\"\n",
    "existing_ids = set()\n",
    "\n",
    "# Extract just the sample ID from filenames (e.g., TCGA-XX-XXXX.svs or TCGA-XX-XXXX.h5 or folder names)\n",
    "for name in os.listdir(folder_path):\n",
    "    base = os.path.splitext(name)[0]  # removes file extension\n",
    "    existing_ids.add(base)\n",
    "\n",
    "# Compare\n",
    "found = her2_ids & existing_ids\n",
    "missing = her2_ids - existing_ids\n",
    "\n",
    "print(f\"✅ Found: {len(found)}\")\n",
    "print(f\"❌ Missing: {len(missing)}\")\n",
    "\n",
    "# Optionally, save missing IDs\n",
    "with open(\"missing_sample_ids.txt\", \"w\") as f:\n",
    "    for sid in sorted(missing):\n",
    "        f.write(sid + \"\\n\")\n"
   ]
  }
 ],
 "metadata": {
  "kernelspec": {
   "display_name": "CLAM",
   "language": "python",
   "name": "clam_latest"
  },
  "language_info": {
   "codemirror_mode": {
    "name": "ipython",
    "version": 3
   },
   "file_extension": ".py",
   "mimetype": "text/x-python",
   "name": "python",
   "nbconvert_exporter": "python",
   "pygments_lexer": "ipython3",
   "version": "3.10.0"
  }
 },
 "nbformat": 4,
 "nbformat_minor": 5
}
