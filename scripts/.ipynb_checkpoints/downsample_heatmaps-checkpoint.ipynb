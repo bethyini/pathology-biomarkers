{
 "cells": [
  {
   "cell_type": "code",
   "execution_count": 2,
   "id": "ca6657c5-727a-49e2-827e-ccb69c874000",
   "metadata": {},
   "outputs": [
    {
     "name": "stdout",
     "output_type": "stream",
     "text": [
      "↓ TCGA-AA-3877_blank_heatmap_braf_msi_positive.png → 588×800 saved\n",
      "↓ TCGA-A6-2672_blank_heatmap_braf_msi_positive.png → 275×800 saved\n",
      "↓ TCGA-AA-A022_overlay_braf_msi_positive.png → 523×800 saved\n",
      "↓ TCGA-AA-A022_blank_heatmap_braf_msi_positive.png → 523×800 saved\n",
      "↓ TCGA-AA-A01P_overlay_braf_msi_positive.png → 609×800 saved\n",
      "↓ TCGA-AA-3821_overlay_braf_msi_positive.png → 800×711 saved\n",
      "↓ TCGA-AA-3525_overlay_braf_msi_positive.png → 624×800 saved\n",
      "↓ TCGA-AA-3877_overlay_braf_msi_positive.png → 588×800 saved\n",
      "↓ TCGA-AA-A01P_blank_heatmap_braf_msi_positive.png → 609×800 saved\n",
      "↓ TCGA-AA-3516_blank_heatmap_braf_msi_positive.png → 280×800 saved\n",
      "↓ TCGA-AA-3949_overlay_braf_msi_positive.png → 360×800 saved\n",
      "↓ TCGA-AA-3516_overlay_braf_msi_positive.png → 281×800 saved\n",
      "↓ TCGA-AA-3821_blank_heatmap_braf_msi_positive.png → 800×711 saved\n",
      "↓ TCGA-AA-3966_blank_heatmap_braf_msi_positive.png → 688×800 saved\n",
      "↓ TCGA-AA-3947_blank_heatmap_braf_msi_positive.png → 461×800 saved\n",
      "↓ TCGA-AA-3966_overlay_braf_msi_positive.png → 688×800 saved\n",
      "↓ TCGA-AA-A00J_blank_heatmap_braf_msi_positive.png → 506×800 saved\n",
      "↓ TCGA-AA-3525_blank_heatmap_braf_msi_positive.png → 624×800 saved\n",
      "↓ TCGA-AA-3715_overlay_braf_msi_positive.png → 800×517 saved\n",
      "↓ TCGA-AA-3543_blank_heatmap_braf_msi_positive.png → 614×800 saved\n",
      "↓ TCGA-AA-A00J_overlay_braf_msi_positive.png → 506×800 saved\n",
      "↓ TCGA-AA-3949_blank_heatmap_braf_msi_positive.png → 360×800 saved\n",
      "↓ TCGA-AA-3833_blank_heatmap_braf_msi_positive.png → 800×594 saved\n",
      "↓ TCGA-A6-2672_overlay_braf_msi_positive.png → 275×800 saved\n",
      "↓ TCGA-AA-3715_blank_heatmap_braf_msi_positive.png → 800×517 saved\n",
      "↓ TCGA-AA-3833_overlay_braf_msi_positive.png → 800×594 saved\n",
      "↓ TCGA-AA-3947_overlay_braf_msi_positive.png → 461×800 saved\n",
      "↓ TCGA-AA-3543_overlay_braf_msi_positive.png → 614×800 saved\n",
      "All done! Low‑res PNGs are in: CLAM/heatmap_outputs/BRAF_lowres\n"
     ]
    }
   ],
   "source": [
    "import os\n",
    "from PIL import Image\n",
    "\n",
    "# Adjust these paths to wherever your PNGs live in Colab\n",
    "input_dir  = 'CLAM/heatmap_outputs/BRAF'           # e.g. uploaded or from Drive mount\n",
    "output_dir = 'CLAM/heatmap_outputs/BRAF_lowres'    # will be created if needed\n",
    "max_size   = 2000                       # max width/height in pixels\n",
    "\n",
    "os.makedirs(output_dir, exist_ok=True)\n",
    "\n",
    "for fname in os.listdir(input_dir):\n",
    "    if not fname.lower().endswith('.png'):\n",
    "        continue\n",
    "\n",
    "    in_path  = os.path.join(input_dir,  fname)\n",
    "    out_path = os.path.join(output_dir, fname)\n",
    "\n",
    "    with Image.open(in_path) as img:\n",
    "        # downsample in‐place, preserving aspect ratio\n",
    "        img.thumbnail((max_size, max_size), Image.LANCZOS)\n",
    "        img.save(out_path, optimize=True)\n",
    "\n",
    "    print(f\"↓ {fname} → {img.size[0]}×{img.size[1]} saved\")\n",
    "\n",
    "print(\"All done! Low‑res PNGs are in:\", output_dir)\n"
   ]
  }
 ],
 "metadata": {
  "kernelspec": {
   "display_name": "CLAM",
   "language": "python",
   "name": "clam_latest"
  },
  "language_info": {
   "codemirror_mode": {
    "name": "ipython",
    "version": 3
   },
   "file_extension": ".py",
   "mimetype": "text/x-python",
   "name": "python",
   "nbconvert_exporter": "python",
   "pygments_lexer": "ipython3",
   "version": "3.10.0"
  }
 },
 "nbformat": 4,
 "nbformat_minor": 5
}
