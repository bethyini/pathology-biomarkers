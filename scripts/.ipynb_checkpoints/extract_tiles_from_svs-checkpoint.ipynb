{
 "cells": [
  {
   "cell_type": "code",
   "execution_count": 1,
   "id": "65c4e5fd-228d-4866-bfa4-f5c7a1399609",
   "metadata": {},
   "outputs": [
    {
     "data": {
      "text/plain": [
       "'/orcd/data/edboyden/002/ezh/uni'"
      ]
     },
     "execution_count": 1,
     "metadata": {},
     "output_type": "execute_result"
    }
   ],
   "source": [
    "%pwd\n"
   ]
  },
  {
   "cell_type": "code",
   "execution_count": 18,
   "id": "507800b9-9478-4233-85b4-aafe056709c9",
   "metadata": {},
   "outputs": [],
   "source": [
    "import os\n",
    "import glob\n",
    "import openslide\n",
    "from PIL import Image\n",
    "from tqdm.notebook import tqdm\n",
    "from concurrent.futures import ThreadPoolExecutor\n",
    "\n",
    "input_dir  = \"diff_svs_flat\"\n",
    "output_dir = \"all_virchow_tiles\"\n",
    "level      = 1      # Openslide pyramid level (0 is highest resolution)\n",
    "tile_size  = 224    # pixels\n",
    "overlap    = 0      # pixels of overlap between tiles\n",
    "max_workers = 20    # adjust based on number of cpus\n",
    "\n",
    "os.makedirs(output_dir, exist_ok=True)"
   ]
  },
  {
   "cell_type": "code",
   "execution_count": 19,
   "id": "9584caac-492a-437e-8433-2850e36ff7e7",
   "metadata": {},
   "outputs": [],
   "source": [
    "slide_paths = glob.glob(os.path.join(input_dir, \"*.svs\"))\n",
    "if not slide_paths:\n",
    "    raise FileNotFoundError(f\"No SVS files found in {input_dir}\")"
   ]
  },
  {
   "cell_type": "code",
   "execution_count": 20,
   "id": "fb10bfed-5d8f-4da0-865e-626467b3485d",
   "metadata": {},
   "outputs": [],
   "source": [
    "def extract_tiles_from_slide(slide_path):\n",
    "    slide_name = os.path.splitext(os.path.basename(slide_path))[0]\n",
    "    slide      = openslide.OpenSlide(slide_path)\n",
    "    W, H       = slide.level_dimensions[level]\n",
    "    stride     = tile_size - overlap\n",
    "\n",
    "    coords = [(x, y)\n",
    "              for y in range(0, H, stride)\n",
    "              for x in range(0, W, stride)]\n",
    "\n",
    "    print(f\"\\n→ Extracting {len(coords)} tiles from '{slide_name}' at level {level}\")\n",
    "\n",
    "    def save_tile(coord):\n",
    "        x, y = coord\n",
    "        tile = slide.read_region((x, y), level, (tile_size, tile_size)).convert(\"RGB\")\n",
    "        fname = f\"{slide_name}_L{level}_{x}_{y}.png\"\n",
    "        os.makedirs(os.path.join(output_dir, slide_name), exist_ok=True)\n",
    "        tile.save(os.path.join(output_dir, slide_name, fname))\n",
    "\n",
    "    with ThreadPoolExecutor(max_workers=max_workers) as executor:\n",
    "        for _ in tqdm(\n",
    "            executor.map(save_tile, coords),\n",
    "            total=len(coords),\n",
    "            desc=slide_name\n",
    "        ):\n",
    "            pass\n",
    "\n",
    "    slide.close()"
   ]
  },
  {
   "cell_type": "code",
   "execution_count": 23,
   "id": "8d06b1ce-faaf-4646-ba51-d05a944f97cc",
   "metadata": {},
   "outputs": [
    {
     "name": "stdout",
     "output_type": "stream",
     "text": [
      "⏭️  Skipping 'TCGA-AA-3688' — tiles already exist.\n",
      "⏭️  Skipping 'TCGA-AA-3864' — tiles already exist.\n",
      "⏭️  Skipping 'TCGA-AA-3532' — tiles already exist.\n",
      "⏭️  Skipping 'TCGA-AA-3818' — tiles already exist.\n",
      "⏭️  Skipping 'TCGA-AA-A02F' — tiles already exist.\n",
      "⏭️  Skipping 'TCGA-AA-3947' — tiles already exist.\n",
      "⏭️  Skipping 'TCGA-AA-3549' — tiles already exist.\n",
      "⏭️  Skipping 'TCGA-AA-A02H' — tiles already exist.\n",
      "⏭️  Skipping 'TCGA-AA-3949' — tiles already exist.\n",
      "⏭️  Skipping 'TCGA-AA-3811' — tiles already exist.\n",
      "⏭️  Skipping 'TCGA-AA-3681' — tiles already exist.\n",
      "⏭️  Skipping 'TCGA-AA-A01V' — tiles already exist.\n",
      "\n",
      "→ Extracting 15012 tiles from 'TCGA-AA-A01Q' at level 1\n"
     ]
    },
    {
     "data": {
      "application/vnd.jupyter.widget-view+json": {
       "model_id": "89b285aa0d434cd68421898f06733044",
       "version_major": 2,
       "version_minor": 0
      },
      "text/plain": [
       "TCGA-AA-A01Q:   0%|          | 0/15012 [00:00<?, ?it/s]"
      ]
     },
     "metadata": {},
     "output_type": "display_data"
    },
    {
     "name": "stdout",
     "output_type": "stream",
     "text": [
      "⏭️  Skipping 'TCGA-AA-A02O' — tiles already exist.\n",
      "\n",
      "→ Extracting 8554 tiles from 'TCGA-CM-5341' at level 1\n"
     ]
    },
    {
     "data": {
      "application/vnd.jupyter.widget-view+json": {
       "model_id": "9a76b18b4a584228af26a7c0354b9d75",
       "version_major": 2,
       "version_minor": 0
      },
      "text/plain": [
       "TCGA-CM-5341:   0%|          | 0/8554 [00:00<?, ?it/s]"
      ]
     },
     "metadata": {},
     "output_type": "display_data"
    },
    {
     "name": "stdout",
     "output_type": "stream",
     "text": [
      "\n",
      "→ Extracting 5289 tiles from 'TCGA-A6-2679' at level 1\n"
     ]
    },
    {
     "data": {
      "application/vnd.jupyter.widget-view+json": {
       "model_id": "808b6132b5b7484e86f2f43eafda2f6b",
       "version_major": 2,
       "version_minor": 0
      },
      "text/plain": [
       "TCGA-A6-2679:   0%|          | 0/5289 [00:00<?, ?it/s]"
      ]
     },
     "metadata": {},
     "output_type": "display_data"
    },
    {
     "name": "stdout",
     "output_type": "stream",
     "text": [
      "\n",
      "→ Extracting 108 tiles from 'TCGA-AA-3509' at level 1\n"
     ]
    },
    {
     "data": {
      "application/vnd.jupyter.widget-view+json": {
       "model_id": "903e27bcffa84a9da24687f273cd55c1",
       "version_major": 2,
       "version_minor": 0
      },
      "text/plain": [
       "TCGA-AA-3509:   0%|          | 0/108 [00:00<?, ?it/s]"
      ]
     },
     "metadata": {},
     "output_type": "display_data"
    },
    {
     "name": "stdout",
     "output_type": "stream",
     "text": [
      "\n",
      "→ Extracting 870 tiles from 'TCGA-AA-3858' at level 1\n"
     ]
    },
    {
     "data": {
      "application/vnd.jupyter.widget-view+json": {
       "model_id": "1c17c073bf1f43798f937a53cfed878f",
       "version_major": 2,
       "version_minor": 0
      },
      "text/plain": [
       "TCGA-AA-3858:   0%|          | 0/870 [00:00<?, ?it/s]"
      ]
     },
     "metadata": {},
     "output_type": "display_data"
    },
    {
     "name": "stdout",
     "output_type": "stream",
     "text": [
      "\n",
      "→ Extracting 1404 tiles from 'TCGA-AA-3972' at level 1\n"
     ]
    },
    {
     "data": {
      "application/vnd.jupyter.widget-view+json": {
       "model_id": "a3d50b653fca492d9f66e5ed92ac4dfa",
       "version_major": 2,
       "version_minor": 0
      },
      "text/plain": [
       "TCGA-AA-3972:   0%|          | 0/1404 [00:00<?, ?it/s]"
      ]
     },
     "metadata": {},
     "output_type": "display_data"
    },
    {
     "name": "stdout",
     "output_type": "stream",
     "text": [
      "\n",
      "→ Extracting 2294 tiles from 'TCGA-AA-A01C' at level 1\n"
     ]
    },
    {
     "data": {
      "application/vnd.jupyter.widget-view+json": {
       "model_id": "c2739b6ae41e4892be91175eba853690",
       "version_major": 2,
       "version_minor": 0
      },
      "text/plain": [
       "TCGA-AA-A01C:   0%|          | 0/2294 [00:00<?, ?it/s]"
      ]
     },
     "metadata": {},
     "output_type": "display_data"
    },
    {
     "name": "stdout",
     "output_type": "stream",
     "text": [
      "\n",
      "→ Extracting 12496 tiles from 'TCGA-AA-3856' at level 1\n"
     ]
    },
    {
     "data": {
      "application/vnd.jupyter.widget-view+json": {
       "model_id": "f33f24a5c70b4c5dbc5cb56189182713",
       "version_major": 2,
       "version_minor": 0
      },
      "text/plain": [
       "TCGA-AA-3856:   0%|          | 0/12496 [00:00<?, ?it/s]"
      ]
     },
     "metadata": {},
     "output_type": "display_data"
    },
    {
     "name": "stdout",
     "output_type": "stream",
     "text": [
      "\n",
      "→ Extracting 2958 tiles from 'TCGA-A6-2677' at level 1\n"
     ]
    },
    {
     "data": {
      "application/vnd.jupyter.widget-view+json": {
       "model_id": "42bba90e2d4a49b782b50f14a996e014",
       "version_major": 2,
       "version_minor": 0
      },
      "text/plain": [
       "TCGA-A6-2677:   0%|          | 0/2958 [00:00<?, ?it/s]"
      ]
     },
     "metadata": {},
     "output_type": "display_data"
    },
    {
     "name": "stdout",
     "output_type": "stream",
     "text": [
      "\n",
      "→ Extracting 7260 tiles from 'TCGA-AA-3851' at level 1\n"
     ]
    },
    {
     "data": {
      "application/vnd.jupyter.widget-view+json": {
       "model_id": "8c8c412c9073463c82f41d536e5feedb",
       "version_major": 2,
       "version_minor": 0
      },
      "text/plain": [
       "TCGA-AA-3851:   0%|          | 0/7260 [00:00<?, ?it/s]"
      ]
     },
     "metadata": {},
     "output_type": "display_data"
    },
    {
     "name": "stdout",
     "output_type": "stream",
     "text": [
      "\n",
      "→ Extracting 4770 tiles from 'TCGA-AA-3975' at level 1\n"
     ]
    },
    {
     "data": {
      "application/vnd.jupyter.widget-view+json": {
       "model_id": "3ecad4efe5334c7b879d02d63b2ce76a",
       "version_major": 2,
       "version_minor": 0
      },
      "text/plain": [
       "TCGA-AA-3975:   0%|          | 0/4770 [00:00<?, ?it/s]"
      ]
     },
     "metadata": {},
     "output_type": "display_data"
    },
    {
     "name": "stdout",
     "output_type": "stream",
     "text": [
      "\n",
      "→ Extracting 9472 tiles from 'TCGA-AA-A01D' at level 1\n"
     ]
    },
    {
     "data": {
      "application/vnd.jupyter.widget-view+json": {
       "model_id": "86ad8d12a10a464497864b13f1c9c96d",
       "version_major": 2,
       "version_minor": 0
      },
      "text/plain": [
       "TCGA-AA-A01D:   0%|          | 0/9472 [00:00<?, ?it/s]"
      ]
     },
     "metadata": {},
     "output_type": "display_data"
    },
    {
     "name": "stdout",
     "output_type": "stream",
     "text": [
      "\n",
      "→ Extracting 3536 tiles from 'TCGA-AA-A004' at level 1\n"
     ]
    },
    {
     "data": {
      "application/vnd.jupyter.widget-view+json": {
       "model_id": "4aa12241b1dd4d0dbb8c57a6879be415",
       "version_major": 2,
       "version_minor": 0
      },
      "text/plain": [
       "TCGA-AA-A004:   0%|          | 0/3536 [00:00<?, ?it/s]"
      ]
     },
     "metadata": {},
     "output_type": "display_data"
    },
    {
     "name": "stdout",
     "output_type": "stream",
     "text": [
      "\n",
      "→ Extracting 5920 tiles from 'TCGA-AA-A00E' at level 1\n"
     ]
    },
    {
     "data": {
      "application/vnd.jupyter.widget-view+json": {
       "model_id": "c2c8ffa720234e239f1adb32ee3bfbfc",
       "version_major": 2,
       "version_minor": 0
      },
      "text/plain": [
       "TCGA-AA-A00E:   0%|          | 0/5920 [00:00<?, ?it/s]"
      ]
     },
     "metadata": {},
     "output_type": "display_data"
    },
    {
     "name": "stdout",
     "output_type": "stream",
     "text": [
      "\n",
      "→ Extracting 8316 tiles from 'TCGA-AA-3516' at level 1\n"
     ]
    },
    {
     "data": {
      "application/vnd.jupyter.widget-view+json": {
       "model_id": "50d257e1c2f44009a42148584579daff",
       "version_major": 2,
       "version_minor": 0
      },
      "text/plain": [
       "TCGA-AA-3516:   0%|          | 0/8316 [00:00<?, ?it/s]"
      ]
     },
     "metadata": {},
     "output_type": "display_data"
    },
    {
     "name": "stdout",
     "output_type": "stream",
     "text": [
      "\n",
      "→ Extracting 3330 tiles from 'TCGA-AA-A00L' at level 1\n"
     ]
    },
    {
     "data": {
      "application/vnd.jupyter.widget-view+json": {
       "model_id": "98a931f0b68e4ab8bc7a010d1a41b13e",
       "version_major": 2,
       "version_minor": 0
      },
      "text/plain": [
       "TCGA-AA-A00L:   0%|          | 0/3330 [00:00<?, ?it/s]"
      ]
     },
     "metadata": {},
     "output_type": "display_data"
    },
    {
     "name": "stdout",
     "output_type": "stream",
     "text": [
      "\n",
      "→ Extracting 2132 tiles from 'TCGA-AA-3673' at level 1\n"
     ]
    },
    {
     "data": {
      "application/vnd.jupyter.widget-view+json": {
       "model_id": "787a51d4f559463b8980b799f721f2d3",
       "version_major": 2,
       "version_minor": 0
      },
      "text/plain": [
       "TCGA-AA-3673:   0%|          | 0/2132 [00:00<?, ?it/s]"
      ]
     },
     "metadata": {},
     "output_type": "display_data"
    },
    {
     "name": "stdout",
     "output_type": "stream",
     "text": [
      "\n",
      "→ Extracting 4064 tiles from 'TCGA-A6-4107' at level 1\n"
     ]
    },
    {
     "data": {
      "application/vnd.jupyter.widget-view+json": {
       "model_id": "af76c17d442048d2b958cc728a31e1ac",
       "version_major": 2,
       "version_minor": 0
      },
      "text/plain": [
       "TCGA-A6-4107:   0%|          | 0/4064 [00:00<?, ?it/s]"
      ]
     },
     "metadata": {},
     "output_type": "display_data"
    },
    {
     "name": "stdout",
     "output_type": "stream",
     "text": [
      "\n",
      "→ Extracting 4218 tiles from 'TCGA-AA-A00K' at level 1\n"
     ]
    },
    {
     "data": {
      "application/vnd.jupyter.widget-view+json": {
       "model_id": "169710ea5ede4602b1874c0b92da27ee",
       "version_major": 2,
       "version_minor": 0
      },
      "text/plain": [
       "TCGA-AA-A00K:   0%|          | 0/4218 [00:00<?, ?it/s]"
      ]
     },
     "metadata": {},
     "output_type": "display_data"
    },
    {
     "name": "stdout",
     "output_type": "stream",
     "text": [
      "\n",
      "→ Extracting 4312 tiles from 'TCGA-AA-3518' at level 1\n"
     ]
    },
    {
     "data": {
      "application/vnd.jupyter.widget-view+json": {
       "model_id": "783352fa0373401ba22da44401e8f1a4",
       "version_major": 2,
       "version_minor": 0
      },
      "text/plain": [
       "TCGA-AA-3518:   0%|          | 0/4312 [00:00<?, ?it/s]"
      ]
     },
     "metadata": {},
     "output_type": "display_data"
    },
    {
     "name": "stdout",
     "output_type": "stream",
     "text": [
      "\n",
      "→ Extracting 9384 tiles from 'TCGA-AZ-4681' at level 1\n"
     ]
    },
    {
     "data": {
      "application/vnd.jupyter.widget-view+json": {
       "model_id": "c373d3d86ed643d0863b8ea680b75083",
       "version_major": 2,
       "version_minor": 0
      },
      "text/plain": [
       "TCGA-AZ-4681:   0%|          | 0/9384 [00:00<?, ?it/s]"
      ]
     },
     "metadata": {},
     "output_type": "display_data"
    },
    {
     "name": "stdout",
     "output_type": "stream",
     "text": [
      "\n",
      "→ Extracting 8875 tiles from 'TCGA-AA-3989' at level 1\n"
     ]
    },
    {
     "data": {
      "application/vnd.jupyter.widget-view+json": {
       "model_id": "d197efe9c9884df88113fd1eaec67d4c",
       "version_major": 2,
       "version_minor": 0
      },
      "text/plain": [
       "TCGA-AA-3989:   0%|          | 0/8875 [00:00<?, ?it/s]"
      ]
     },
     "metadata": {},
     "output_type": "display_data"
    },
    {
     "name": "stdout",
     "output_type": "stream",
     "text": [
      "\n",
      "→ Extracting 12604 tiles from 'TCGA-AA-A029' at level 1\n"
     ]
    },
    {
     "data": {
      "application/vnd.jupyter.widget-view+json": {
       "model_id": "33616cd4d4a94d699906e5b1725a077c",
       "version_major": 2,
       "version_minor": 0
      },
      "text/plain": [
       "TCGA-AA-A029:   0%|          | 0/12604 [00:00<?, ?it/s]"
      ]
     },
     "metadata": {},
     "output_type": "display_data"
    },
    {
     "name": "stdout",
     "output_type": "stream",
     "text": [
      "\n",
      "→ Extracting 6660 tiles from 'TCGA-A6-3809' at level 1\n"
     ]
    },
    {
     "data": {
      "application/vnd.jupyter.widget-view+json": {
       "model_id": "38f6bd7764b24ae187b426a41b68a889",
       "version_major": 2,
       "version_minor": 0
      },
      "text/plain": [
       "TCGA-A6-3809:   0%|          | 0/6660 [00:00<?, ?it/s]"
      ]
     },
     "metadata": {},
     "output_type": "display_data"
    },
    {
     "name": "stdout",
     "output_type": "stream",
     "text": [
      "\n",
      "→ Extracting 2340 tiles from 'TCGA-AA-A00W' at level 1\n"
     ]
    },
    {
     "data": {
      "application/vnd.jupyter.widget-view+json": {
       "model_id": "f9b76b0163224180a2b42ed913333963",
       "version_major": 2,
       "version_minor": 0
      },
      "text/plain": [
       "TCGA-AA-A00W:   0%|          | 0/2340 [00:00<?, ?it/s]"
      ]
     },
     "metadata": {},
     "output_type": "display_data"
    },
    {
     "name": "stdout",
     "output_type": "stream",
     "text": [
      "\n",
      "→ Extracting 1232 tiles from 'TCGA-AA-3556' at level 1\n"
     ]
    },
    {
     "data": {
      "application/vnd.jupyter.widget-view+json": {
       "model_id": "2c37ae8727d94a91b7cbb213cb43143d",
       "version_major": 2,
       "version_minor": 0
      },
      "text/plain": [
       "TCGA-AA-3556:   0%|          | 0/1232 [00:00<?, ?it/s]"
      ]
     },
     "metadata": {},
     "output_type": "display_data"
    },
    {
     "name": "stdout",
     "output_type": "stream",
     "text": [
      "\n",
      "→ Extracting 3136 tiles from 'TCGA-AA-3524' at level 1\n"
     ]
    },
    {
     "data": {
      "application/vnd.jupyter.widget-view+json": {
       "model_id": "07bdc64e364f4511941f11137c67df9c",
       "version_major": 2,
       "version_minor": 0
      },
      "text/plain": [
       "TCGA-AA-3524:   0%|          | 0/3136 [00:00<?, ?it/s]"
      ]
     },
     "metadata": {},
     "output_type": "display_data"
    },
    {
     "name": "stdout",
     "output_type": "stream",
     "text": [
      "\n",
      "→ Extracting 3186 tiles from 'TCGA-AA-3956' at level 1\n"
     ]
    },
    {
     "data": {
      "application/vnd.jupyter.widget-view+json": {
       "model_id": "bb58a3aa468b4aea9cd63c53e3f92a9a",
       "version_major": 2,
       "version_minor": 0
      },
      "text/plain": [
       "TCGA-AA-3956:   0%|          | 0/3186 [00:00<?, ?it/s]"
      ]
     },
     "metadata": {},
     "output_type": "display_data"
    },
    {
     "name": "stdout",
     "output_type": "stream",
     "text": [
      "\n",
      "→ Extracting 8840 tiles from 'TCGA-A6-3807' at level 1\n"
     ]
    },
    {
     "data": {
      "application/vnd.jupyter.widget-view+json": {
       "model_id": "21660f83e81440e5891ccb5111e13c02",
       "version_major": 2,
       "version_minor": 0
      },
      "text/plain": [
       "TCGA-A6-3807:   0%|          | 0/8840 [00:00<?, ?it/s]"
      ]
     },
     "metadata": {},
     "output_type": "display_data"
    },
    {
     "name": "stdout",
     "output_type": "stream",
     "text": [
      "\n",
      "→ Extracting 2128 tiles from 'TCGA-AA-3872' at level 1\n"
     ]
    },
    {
     "data": {
      "application/vnd.jupyter.widget-view+json": {
       "model_id": "ce312fe5509a4a53addc7318d18cb43e",
       "version_major": 2,
       "version_minor": 0
      },
      "text/plain": [
       "TCGA-AA-3872:   0%|          | 0/2128 [00:00<?, ?it/s]"
      ]
     },
     "metadata": {},
     "output_type": "display_data"
    },
    {
     "name": "stdout",
     "output_type": "stream",
     "text": [
      "\n",
      "→ Extracting 4560 tiles from 'TCGA-AA-3558' at level 1\n"
     ]
    },
    {
     "data": {
      "application/vnd.jupyter.widget-view+json": {
       "model_id": "b48810b043944e759fb136dc9613934f",
       "version_major": 2,
       "version_minor": 0
      },
      "text/plain": [
       "TCGA-AA-3558:   0%|          | 0/4560 [00:00<?, ?it/s]"
      ]
     },
     "metadata": {},
     "output_type": "display_data"
    },
    {
     "name": "stdout",
     "output_type": "stream",
     "text": [
      "\n",
      "→ Extracting 3996 tiles from 'TCGA-AA-3710' at level 1\n"
     ]
    },
    {
     "data": {
      "application/vnd.jupyter.widget-view+json": {
       "model_id": "c590690ae55f45e08d4eb6e2baa7152c",
       "version_major": 2,
       "version_minor": 0
      },
      "text/plain": [
       "TCGA-AA-3710:   0%|          | 0/3996 [00:00<?, ?it/s]"
      ]
     },
     "metadata": {},
     "output_type": "display_data"
    },
    {
     "name": "stdout",
     "output_type": "stream",
     "text": [
      "\n",
      "→ Extracting 2280 tiles from 'TCGA-AA-3875' at level 1\n"
     ]
    },
    {
     "data": {
      "application/vnd.jupyter.widget-view+json": {
       "model_id": "3247c12c98da44eb96129496b332acfd",
       "version_major": 2,
       "version_minor": 0
      },
      "text/plain": [
       "TCGA-AA-3875:   0%|          | 0/2280 [00:00<?, ?it/s]"
      ]
     },
     "metadata": {},
     "output_type": "display_data"
    },
    {
     "name": "stdout",
     "output_type": "stream",
     "text": [
      "\n",
      "→ Extracting 6125 tiles from 'TCGA-AA-3980' at level 1\n"
     ]
    },
    {
     "data": {
      "application/vnd.jupyter.widget-view+json": {
       "model_id": "90204fd92e3d4327ae6fddd9eda9745f",
       "version_major": 2,
       "version_minor": 0
      },
      "text/plain": [
       "TCGA-AA-3980:   0%|          | 0/6125 [00:00<?, ?it/s]"
      ]
     },
     "metadata": {},
     "output_type": "display_data"
    },
    {
     "name": "stdout",
     "output_type": "stream",
     "text": [
      "\n",
      "→ Extracting 5054 tiles from 'TCGA-A6-2676' at level 1\n"
     ]
    },
    {
     "data": {
      "application/vnd.jupyter.widget-view+json": {
       "model_id": "b23764e2ad0849838217827b52b3c0cf",
       "version_major": 2,
       "version_minor": 0
      },
      "text/plain": [
       "TCGA-A6-2676:   0%|          | 0/5054 [00:00<?, ?it/s]"
      ]
     },
     "metadata": {},
     "output_type": "display_data"
    },
    {
     "name": "stdout",
     "output_type": "stream",
     "text": [
      "\n",
      "→ Extracting 8316 tiles from 'TCGA-AA-3850' at level 1\n"
     ]
    },
    {
     "data": {
      "application/vnd.jupyter.widget-view+json": {
       "model_id": "4989855c0a5b4344a2093f76c2d5b0e1",
       "version_major": 2,
       "version_minor": 0
      },
      "text/plain": [
       "TCGA-AA-3850:   0%|          | 0/8316 [00:00<?, ?it/s]"
      ]
     },
     "metadata": {},
     "output_type": "display_data"
    },
    {
     "name": "stdout",
     "output_type": "stream",
     "text": [
      "\n",
      "→ Extracting 2940 tiles from 'TCGA-AA-3973' at level 1\n"
     ]
    },
    {
     "data": {
      "application/vnd.jupyter.widget-view+json": {
       "model_id": "15aa1a406652416baabb0b0efe2b3878",
       "version_major": 2,
       "version_minor": 0
      },
      "text/plain": [
       "TCGA-AA-3973:   0%|          | 0/2940 [00:00<?, ?it/s]"
      ]
     },
     "metadata": {},
     "output_type": "display_data"
    },
    {
     "name": "stdout",
     "output_type": "stream",
     "text": [
      "\n",
      "→ Extracting 108 tiles from 'TCGA-AA-3488' at level 1\n"
     ]
    },
    {
     "data": {
      "application/vnd.jupyter.widget-view+json": {
       "model_id": "94282085b7b440caa4881cfa248ed226",
       "version_major": 2,
       "version_minor": 0
      },
      "text/plain": [
       "TCGA-AA-3488:   0%|          | 0/108 [00:00<?, ?it/s]"
      ]
     },
     "metadata": {},
     "output_type": "display_data"
    },
    {
     "name": "stdout",
     "output_type": "stream",
     "text": [
      "\n",
      "→ Extracting 4788 tiles from 'TCGA-A6-2671' at level 1\n"
     ]
    },
    {
     "data": {
      "application/vnd.jupyter.widget-view+json": {
       "model_id": "6ffe80737c31492693fb7358798c7339",
       "version_major": 2,
       "version_minor": 0
      },
      "text/plain": [
       "TCGA-A6-2671:   0%|          | 0/4788 [00:00<?, ?it/s]"
      ]
     },
     "metadata": {},
     "output_type": "display_data"
    },
    {
     "name": "stdout",
     "output_type": "stream",
     "text": [
      "\n",
      "→ Extracting 11484 tiles from 'TCGA-CM-4746' at level 1\n"
     ]
    },
    {
     "data": {
      "application/vnd.jupyter.widget-view+json": {
       "model_id": "6e125dcc07284f3c9218bace0c15b904",
       "version_major": 2,
       "version_minor": 0
      },
      "text/plain": [
       "TCGA-CM-4746:   0%|          | 0/11484 [00:00<?, ?it/s]"
      ]
     },
     "metadata": {},
     "output_type": "display_data"
    },
    {
     "name": "stdout",
     "output_type": "stream",
     "text": [
      "\n",
      "→ Extracting 6426 tiles from 'TCGA-AA-A02R' at level 1\n"
     ]
    },
    {
     "data": {
      "application/vnd.jupyter.widget-view+json": {
       "model_id": "3ba16ee9e4b240d187b5c4ca64ee7489",
       "version_major": 2,
       "version_minor": 0
      },
      "text/plain": [
       "TCGA-AA-A02R:   0%|          | 0/6426 [00:00<?, ?it/s]"
      ]
     },
     "metadata": {},
     "output_type": "display_data"
    },
    {
     "name": "stdout",
     "output_type": "stream",
     "text": [
      "\n",
      "→ Extracting 17280 tiles from 'TCGA-AA-3664' at level 1\n"
     ]
    },
    {
     "data": {
      "application/vnd.jupyter.widget-view+json": {
       "model_id": "eb3c31043854477a86793c69f4e712c9",
       "version_major": 2,
       "version_minor": 0
      },
      "text/plain": [
       "TCGA-AA-3664:   0%|          | 0/17280 [00:00<?, ?it/s]"
      ]
     },
     "metadata": {},
     "output_type": "display_data"
    },
    {
     "name": "stdout",
     "output_type": "stream",
     "text": [
      "\n",
      "→ Extracting 5658 tiles from 'TCGA-CM-4748' at level 1\n"
     ]
    },
    {
     "data": {
      "application/vnd.jupyter.widget-view+json": {
       "model_id": "5a09f8f4332a451984d1f77e16adc795",
       "version_major": 2,
       "version_minor": 0
      },
      "text/plain": [
       "TCGA-CM-4748:   0%|          | 0/5658 [00:00<?, ?it/s]"
      ]
     },
     "metadata": {},
     "output_type": "display_data"
    },
    {
     "name": "stdout",
     "output_type": "stream",
     "text": [
      "\n",
      "→ Extracting 6201 tiles from 'TCGA-A6-2678' at level 1\n"
     ]
    },
    {
     "data": {
      "application/vnd.jupyter.widget-view+json": {
       "model_id": "7a4b250af1974f4da46a2cb1dccf3716",
       "version_major": 2,
       "version_minor": 0
      },
      "text/plain": [
       "TCGA-A6-2678:   0%|          | 0/6201 [00:00<?, ?it/s]"
      ]
     },
     "metadata": {},
     "output_type": "display_data"
    },
    {
     "name": "stdout",
     "output_type": "stream",
     "text": [
      "\n",
      "→ Extracting 2652 tiles from 'TCGA-AA-A01K' at level 1\n"
     ]
    },
    {
     "data": {
      "application/vnd.jupyter.widget-view+json": {
       "model_id": "cd324e5baf234eca9c32689ad87edb7a",
       "version_major": 2,
       "version_minor": 0
      },
      "text/plain": [
       "TCGA-AA-A01K:   0%|          | 0/2652 [00:00<?, ?it/s]"
      ]
     },
     "metadata": {},
     "output_type": "display_data"
    },
    {
     "name": "stdout",
     "output_type": "stream",
     "text": [
      "\n",
      "→ Extracting 3888 tiles from 'TCGA-AA-3680' at level 1\n"
     ]
    },
    {
     "data": {
      "application/vnd.jupyter.widget-view+json": {
       "model_id": "ccb3d63bfdd744ff8d76bd36fac1d78c",
       "version_major": 2,
       "version_minor": 0
      },
      "text/plain": [
       "TCGA-AA-3680:   0%|          | 0/3888 [00:00<?, ?it/s]"
      ]
     },
     "metadata": {},
     "output_type": "display_data"
    },
    {
     "name": "stdout",
     "output_type": "stream",
     "text": [
      "\n",
      "→ Extracting 2312 tiles from 'TCGA-AA-3534' at level 1\n"
     ]
    },
    {
     "data": {
      "application/vnd.jupyter.widget-view+json": {
       "model_id": "dfa28f89c54f4c9bbed3107c0f2c40fe",
       "version_major": 2,
       "version_minor": 0
      },
      "text/plain": [
       "TCGA-AA-3534:   0%|          | 0/2312 [00:00<?, ?it/s]"
      ]
     },
     "metadata": {},
     "output_type": "display_data"
    },
    {
     "name": "stdout",
     "output_type": "stream",
     "text": [
      "\n",
      "→ Extracting 5600 tiles from 'TCGA-AA-3548' at level 1\n"
     ]
    },
    {
     "data": {
      "application/vnd.jupyter.widget-view+json": {
       "model_id": "3a71015b466f4c92ba627fd5344e32ec",
       "version_major": 2,
       "version_minor": 0
      },
      "text/plain": [
       "TCGA-AA-3548:   0%|          | 0/5600 [00:00<?, ?it/s]"
      ]
     },
     "metadata": {},
     "output_type": "display_data"
    },
    {
     "name": "stdout",
     "output_type": "stream",
     "text": [
      "\n",
      "→ Extracting 8640 tiles from 'TCGA-AA-3862' at level 1\n"
     ]
    },
    {
     "data": {
      "application/vnd.jupyter.widget-view+json": {
       "model_id": "2403351405ed4523a41608261860a39f",
       "version_major": 2,
       "version_minor": 0
      },
      "text/plain": [
       "TCGA-AA-3862:   0%|          | 0/8640 [00:00<?, ?it/s]"
      ]
     },
     "metadata": {},
     "output_type": "display_data"
    },
    {
     "name": "stdout",
     "output_type": "stream",
     "text": [
      "\n",
      "→ Extracting 960 tiles from 'TCGA-A6-3810' at level 1\n"
     ]
    },
    {
     "data": {
      "application/vnd.jupyter.widget-view+json": {
       "model_id": "3889dc1a0f9b47c58414c32dc98e4245",
       "version_major": 2,
       "version_minor": 0
      },
      "text/plain": [
       "TCGA-A6-3810:   0%|          | 0/960 [00:00<?, ?it/s]"
      ]
     },
     "metadata": {},
     "output_type": "display_data"
    },
    {
     "name": "stdout",
     "output_type": "stream",
     "text": [
      "\n",
      "→ Extracting 13608 tiles from 'TCGA-AA-3941' at level 1\n"
     ]
    },
    {
     "data": {
      "application/vnd.jupyter.widget-view+json": {
       "model_id": "0854217c04b94ea0945b9b3060b80d70",
       "version_major": 2,
       "version_minor": 0
      },
      "text/plain": [
       "TCGA-AA-3941:   0%|          | 0/13608 [00:00<?, ?it/s]"
      ]
     },
     "metadata": {},
     "output_type": "display_data"
    },
    {
     "name": "stdout",
     "output_type": "stream",
     "text": [
      "\n",
      "→ Extracting 5390 tiles from 'TCGA-AA-3819' at level 1\n"
     ]
    },
    {
     "data": {
      "application/vnd.jupyter.widget-view+json": {
       "model_id": "2d977ff4307b4d78adf0ce8e1ad93cbb",
       "version_major": 2,
       "version_minor": 0
      },
      "text/plain": [
       "TCGA-AA-3819:   0%|          | 0/5390 [00:00<?, ?it/s]"
      ]
     },
     "metadata": {},
     "output_type": "display_data"
    },
    {
     "name": "stdout",
     "output_type": "stream",
     "text": [
      "\n",
      "→ Extracting 4470 tiles from 'TCGA-A6-2683' at level 1\n"
     ]
    },
    {
     "data": {
      "application/vnd.jupyter.widget-view+json": {
       "model_id": "4281d69bc7004325adb6def20be62e01",
       "version_major": 2,
       "version_minor": 0
      },
      "text/plain": [
       "TCGA-A6-2683:   0%|          | 0/4470 [00:00<?, ?it/s]"
      ]
     },
     "metadata": {},
     "output_type": "display_data"
    },
    {
     "name": "stdout",
     "output_type": "stream",
     "text": [
      "\n",
      "→ Extracting 9317 tiles from 'TCGA-AA-3950' at level 1\n"
     ]
    },
    {
     "data": {
      "application/vnd.jupyter.widget-view+json": {
       "model_id": "9ccbfec75a554d9fab17e602d78728d5",
       "version_major": 2,
       "version_minor": 0
      },
      "text/plain": [
       "TCGA-AA-3950:   0%|          | 0/9317 [00:00<?, ?it/s]"
      ]
     },
     "metadata": {},
     "output_type": "display_data"
    },
    {
     "name": "stdout",
     "output_type": "stream",
     "text": [
      "\n",
      "→ Extracting 2378 tiles from 'TCGA-AA-3522' at level 1\n"
     ]
    },
    {
     "data": {
      "application/vnd.jupyter.widget-view+json": {
       "model_id": "02b2f67348c44918838db944ee783e63",
       "version_major": 2,
       "version_minor": 0
      },
      "text/plain": [
       "TCGA-AA-3522:   0%|          | 0/2378 [00:00<?, ?it/s]"
      ]
     },
     "metadata": {},
     "output_type": "display_data"
    },
    {
     "name": "stdout",
     "output_type": "stream",
     "text": [
      "\n",
      "→ Extracting 3604 tiles from 'TCGA-AA-3525' at level 1\n"
     ]
    },
    {
     "data": {
      "application/vnd.jupyter.widget-view+json": {
       "model_id": "32c6faaea5a44a92be1eb1f2d817881c",
       "version_major": 2,
       "version_minor": 0
      },
      "text/plain": [
       "TCGA-AA-3525:   0%|          | 0/3604 [00:00<?, ?it/s]"
      ]
     },
     "metadata": {},
     "output_type": "display_data"
    },
    {
     "name": "stdout",
     "output_type": "stream",
     "text": [
      "\n",
      "→ Extracting 4464 tiles from 'TCGA-AA-A03F' at level 1\n"
     ]
    },
    {
     "data": {
      "application/vnd.jupyter.widget-view+json": {
       "model_id": "402a446934114c21abe57d6d456142e8",
       "version_major": 2,
       "version_minor": 0
      },
      "text/plain": [
       "TCGA-AA-A03F:   0%|          | 0/4464 [00:00<?, ?it/s]"
      ]
     },
     "metadata": {},
     "output_type": "display_data"
    },
    {
     "name": "stdout",
     "output_type": "stream",
     "text": [
      "\n",
      "→ Extracting 13774 tiles from 'TCGA-AA-3986' at level 1\n"
     ]
    },
    {
     "data": {
      "application/vnd.jupyter.widget-view+json": {
       "model_id": "c24209f3fd3c4299891909e3f5b2f495",
       "version_major": 2,
       "version_minor": 0
      },
      "text/plain": [
       "TCGA-AA-3986:   0%|          | 0/13774 [00:00<?, ?it/s]"
      ]
     },
     "metadata": {},
     "output_type": "display_data"
    },
    {
     "name": "stdout",
     "output_type": "stream",
     "text": [
      "\n",
      "→ Extracting 6298 tiles from 'TCGA-A6-3808' at level 1\n"
     ]
    },
    {
     "data": {
      "application/vnd.jupyter.widget-view+json": {
       "model_id": "29c0885a1bea443db66764d34c8a4a35",
       "version_major": 2,
       "version_minor": 0
      },
      "text/plain": [
       "TCGA-A6-3808:   0%|          | 0/6298 [00:00<?, ?it/s]"
      ]
     },
     "metadata": {},
     "output_type": "display_data"
    },
    {
     "name": "stdout",
     "output_type": "stream",
     "text": [
      "\n",
      "→ Extracting 7920 tiles from 'TCGA-AA-A00Q' at level 1\n"
     ]
    },
    {
     "data": {
      "application/vnd.jupyter.widget-view+json": {
       "model_id": "11cbe8dc856f49e5aa40ad8369714b75",
       "version_major": 2,
       "version_minor": 0
      },
      "text/plain": [
       "TCGA-AA-A00Q:   0%|          | 0/7920 [00:00<?, ?it/s]"
      ]
     },
     "metadata": {},
     "output_type": "display_data"
    },
    {
     "name": "stdout",
     "output_type": "stream",
     "text": [
      "\n",
      "→ Extracting 2112 tiles from 'TCGA-AA-3696' at level 1\n"
     ]
    },
    {
     "data": {
      "application/vnd.jupyter.widget-view+json": {
       "model_id": "db173a6d53fb4b9e830b3e0226e4a4c3",
       "version_major": 2,
       "version_minor": 0
      },
      "text/plain": [
       "TCGA-AA-3696:   0%|          | 0/2112 [00:00<?, ?it/s]"
      ]
     },
     "metadata": {},
     "output_type": "display_data"
    },
    {
     "name": "stdout",
     "output_type": "stream",
     "text": [
      "\n",
      "→ Extracting 7896 tiles from 'TCGA-AA-3672' at level 1\n"
     ]
    },
    {
     "data": {
      "application/vnd.jupyter.widget-view+json": {
       "model_id": "dec184844bb547b1995d0f29d6979ddb",
       "version_major": 2,
       "version_minor": 0
      },
      "text/plain": [
       "TCGA-AA-3672:   0%|          | 0/7896 [00:00<?, ?it/s]"
      ]
     },
     "metadata": {},
     "output_type": "display_data"
    },
    {
     "name": "stdout",
     "output_type": "stream",
     "text": [
      "\n",
      "→ Extracting 5874 tiles from 'TCGA-AA-3833' at level 1\n"
     ]
    },
    {
     "data": {
      "application/vnd.jupyter.widget-view+json": {
       "model_id": "204d934c4a6e4a45bd84b984e459eda1",
       "version_major": 2,
       "version_minor": 0
      },
      "text/plain": [
       "TCGA-AA-3833:   0%|          | 0/5874 [00:00<?, ?it/s]"
      ]
     },
     "metadata": {},
     "output_type": "display_data"
    },
    {
     "name": "stdout",
     "output_type": "stream",
     "text": [
      "\n",
      "→ Extracting 12780 tiles from 'TCGA-AA-A00J' at level 1\n"
     ]
    },
    {
     "data": {
      "application/vnd.jupyter.widget-view+json": {
       "model_id": "b52c58ddb5d54ffc8ad58929e6d19c2b",
       "version_major": 2,
       "version_minor": 0
      },
      "text/plain": [
       "TCGA-AA-A00J:   0%|          | 0/12780 [00:00<?, ?it/s]"
      ]
     },
     "metadata": {},
     "output_type": "display_data"
    },
    {
     "name": "stdout",
     "output_type": "stream",
     "text": [
      "\n",
      "→ Extracting 9072 tiles from 'TCGA-AA-3519' at level 1\n"
     ]
    },
    {
     "data": {
      "application/vnd.jupyter.widget-view+json": {
       "model_id": "68e8f3053b36487db48ef38a34098c65",
       "version_major": 2,
       "version_minor": 0
      },
      "text/plain": [
       "TCGA-AA-3519:   0%|          | 0/9072 [00:00<?, ?it/s]"
      ]
     },
     "metadata": {},
     "output_type": "display_data"
    },
    {
     "name": "stdout",
     "output_type": "stream",
     "text": [
      "\n",
      "→ Extracting 3712 tiles from 'TCGA-AA-3848' at level 1\n"
     ]
    },
    {
     "data": {
      "application/vnd.jupyter.widget-view+json": {
       "model_id": "f1b3104240af48d3aadd888a251d7f9d",
       "version_major": 2,
       "version_minor": 0
      },
      "text/plain": [
       "TCGA-AA-3848:   0%|          | 0/3712 [00:00<?, ?it/s]"
      ]
     },
     "metadata": {},
     "output_type": "display_data"
    },
    {
     "name": "stdout",
     "output_type": "stream",
     "text": [
      "\n",
      "→ Extracting 6210 tiles from 'TCGA-AA-3562' at level 1\n"
     ]
    },
    {
     "data": {
      "application/vnd.jupyter.widget-view+json": {
       "model_id": "df31bf80c9084b558d26da2fea83ce2b",
       "version_major": 2,
       "version_minor": 0
      },
      "text/plain": [
       "TCGA-AA-3562:   0%|          | 0/6210 [00:00<?, ?it/s]"
      ]
     },
     "metadata": {},
     "output_type": "display_data"
    },
    {
     "name": "stdout",
     "output_type": "stream",
     "text": [
      "\n",
      "→ Extracting 120 tiles from 'TCGA-AA-3510' at level 1\n"
     ]
    },
    {
     "data": {
      "application/vnd.jupyter.widget-view+json": {
       "model_id": "348848086c25467ca8e44942f8ce32e8",
       "version_major": 2,
       "version_minor": 0
      },
      "text/plain": [
       "TCGA-AA-3510:   0%|          | 0/120 [00:00<?, ?it/s]"
      ]
     },
     "metadata": {},
     "output_type": "display_data"
    },
    {
     "name": "stdout",
     "output_type": "stream",
     "text": [
      "\n",
      "→ Extracting 1650 tiles from 'TCGA-AA-3846' at level 1\n"
     ]
    },
    {
     "data": {
      "application/vnd.jupyter.widget-view+json": {
       "model_id": "6d5b969ddbd4440c87a6d4f3815afd38",
       "version_major": 2,
       "version_minor": 0
      },
      "text/plain": [
       "TCGA-AA-3846:   0%|          | 0/1650 [00:00<?, ?it/s]"
      ]
     },
     "metadata": {},
     "output_type": "display_data"
    },
    {
     "name": "stdout",
     "output_type": "stream",
     "text": [
      "\n",
      "→ Extracting 6912 tiles from 'TCGA-AA-3841' at level 1\n"
     ]
    },
    {
     "data": {
      "application/vnd.jupyter.widget-view+json": {
       "model_id": "ac565adcf87743ac9a3a601716360ca5",
       "version_major": 2,
       "version_minor": 0
      },
      "text/plain": [
       "TCGA-AA-3841:   0%|          | 0/6912 [00:00<?, ?it/s]"
      ]
     },
     "metadata": {},
     "output_type": "display_data"
    },
    {
     "name": "stdout",
     "output_type": "stream",
     "text": [
      "\n",
      "→ Extracting 12350 tiles from 'TCGA-CM-4750' at level 1\n"
     ]
    },
    {
     "data": {
      "application/vnd.jupyter.widget-view+json": {
       "model_id": "34ee5ce2463c4bfbbb86996d37ad40d0",
       "version_major": 2,
       "version_minor": 0
      },
      "text/plain": [
       "TCGA-CM-4750:   0%|          | 0/12350 [00:00<?, ?it/s]"
      ]
     },
     "metadata": {},
     "output_type": "display_data"
    },
    {
     "name": "stdout",
     "output_type": "stream",
     "text": [
      "\n",
      "→ Extracting 7581 tiles from 'TCGA-AA-A00D' at level 1\n"
     ]
    },
    {
     "data": {
      "application/vnd.jupyter.widget-view+json": {
       "model_id": "205fbb4d5ce240f8a438e25c34383509",
       "version_major": 2,
       "version_minor": 0
      },
      "text/plain": [
       "TCGA-AA-A00D:   0%|          | 0/7581 [00:00<?, ?it/s]"
      ]
     },
     "metadata": {},
     "output_type": "display_data"
    },
    {
     "name": "stdout",
     "output_type": "stream",
     "text": [
      "\n",
      "→ Extracting 3762 tiles from 'TCGA-AA-3517' at level 1\n"
     ]
    },
    {
     "data": {
      "application/vnd.jupyter.widget-view+json": {
       "model_id": "d48bc19c3cc145d893e82ade5ec4085e",
       "version_major": 2,
       "version_minor": 0
      },
      "text/plain": [
       "TCGA-AA-3517:   0%|          | 0/3762 [00:00<?, ?it/s]"
      ]
     },
     "metadata": {},
     "output_type": "display_data"
    },
    {
     "name": "stdout",
     "output_type": "stream",
     "text": [
      "\n",
      "→ Extracting 7383 tiles from 'TCGA-AA-3715' at level 1\n"
     ]
    },
    {
     "data": {
      "application/vnd.jupyter.widget-view+json": {
       "model_id": "08a8cf667e52452faf5631993bdc09bd",
       "version_major": 2,
       "version_minor": 0
      },
      "text/plain": [
       "TCGA-AA-3715:   0%|          | 0/7383 [00:00<?, ?it/s]"
      ]
     },
     "metadata": {},
     "output_type": "display_data"
    },
    {
     "name": "stdout",
     "output_type": "stream",
     "text": [
      "\n",
      "→ Extracting 3198 tiles from 'TCGA-AA-3870' at level 1\n"
     ]
    },
    {
     "data": {
      "application/vnd.jupyter.widget-view+json": {
       "model_id": "bd2875eebadb4d458acd76b0c65b5ddb",
       "version_major": 2,
       "version_minor": 0
      },
      "text/plain": [
       "TCGA-AA-3870:   0%|          | 0/3198 [00:00<?, ?it/s]"
      ]
     },
     "metadata": {},
     "output_type": "display_data"
    },
    {
     "name": "stdout",
     "output_type": "stream",
     "text": [
      "\n",
      "→ Extracting 11284 tiles from 'TCGA-AA-3877' at level 1\n"
     ]
    },
    {
     "data": {
      "application/vnd.jupyter.widget-view+json": {
       "model_id": "baf8349a6d8c4668bead374d0d6d6660",
       "version_major": 2,
       "version_minor": 0
      },
      "text/plain": [
       "TCGA-AA-3877:   0%|          | 0/11284 [00:00<?, ?it/s]"
      ]
     },
     "metadata": {},
     "output_type": "display_data"
    },
    {
     "name": "stdout",
     "output_type": "stream",
     "text": [
      "\n",
      "→ Extracting 2160 tiles from 'TCGA-A6-2680' at level 1\n"
     ]
    },
    {
     "data": {
      "application/vnd.jupyter.widget-view+json": {
       "model_id": "ef0b907aaf7246c8a2649198580cdc37",
       "version_major": 2,
       "version_minor": 0
      },
      "text/plain": [
       "TCGA-A6-2680:   0%|          | 0/2160 [00:00<?, ?it/s]"
      ]
     },
     "metadata": {},
     "output_type": "display_data"
    },
    {
     "name": "stdout",
     "output_type": "stream",
     "text": [
      "\n",
      "→ Extracting 6832 tiles from 'TCGA-AA-3521' at level 1\n"
     ]
    },
    {
     "data": {
      "application/vnd.jupyter.widget-view+json": {
       "model_id": "36b1672bb8374aedadac404b805571b9",
       "version_major": 2,
       "version_minor": 0
      },
      "text/plain": [
       "TCGA-AA-3521:   0%|          | 0/6832 [00:00<?, ?it/s]"
      ]
     },
     "metadata": {},
     "output_type": "display_data"
    },
    {
     "name": "stdout",
     "output_type": "stream",
     "text": [
      "\n",
      "→ Extracting 2640 tiles from 'TCGA-AA-3982' at level 1\n"
     ]
    },
    {
     "data": {
      "application/vnd.jupyter.widget-view+json": {
       "model_id": "d8db0326f9884482aef81c4e754e456b",
       "version_major": 2,
       "version_minor": 0
      },
      "text/plain": [
       "TCGA-AA-3982:   0%|          | 0/2640 [00:00<?, ?it/s]"
      ]
     },
     "metadata": {},
     "output_type": "display_data"
    },
    {
     "name": "stdout",
     "output_type": "stream",
     "text": [
      "\n",
      "→ Extracting 6500 tiles from 'TCGA-AA-A022' at level 1\n"
     ]
    },
    {
     "data": {
      "application/vnd.jupyter.widget-view+json": {
       "model_id": "b81fe1ef5efc4dcc9b481868bc07299d",
       "version_major": 2,
       "version_minor": 0
      },
      "text/plain": [
       "TCGA-AA-A022:   0%|          | 0/6500 [00:00<?, ?it/s]"
      ]
     },
     "metadata": {},
     "output_type": "display_data"
    },
    {
     "name": "stdout",
     "output_type": "stream",
     "text": [
      "\n",
      "→ Extracting 15336 tiles from 'TCGA-AA-3553' at level 1\n"
     ]
    },
    {
     "data": {
      "application/vnd.jupyter.widget-view+json": {
       "model_id": "b058e1e879114af5aeb8cf27ee4d234c",
       "version_major": 2,
       "version_minor": 0
      },
      "text/plain": [
       "TCGA-AA-3553:   0%|          | 0/15336 [00:00<?, ?it/s]"
      ]
     },
     "metadata": {},
     "output_type": "display_data"
    },
    {
     "name": "stdout",
     "output_type": "stream",
     "text": [
      "\n",
      "→ Extracting 4644 tiles from 'TCGA-AA-3695' at level 1\n"
     ]
    },
    {
     "data": {
      "application/vnd.jupyter.widget-view+json": {
       "model_id": "8bbb6ec3369a4e45b96e0f503e97d673",
       "version_major": 2,
       "version_minor": 0
      },
      "text/plain": [
       "TCGA-AA-3695:   0%|          | 0/4644 [00:00<?, ?it/s]"
      ]
     },
     "metadata": {},
     "output_type": "display_data"
    },
    {
     "name": "stdout",
     "output_type": "stream",
     "text": [
      "\n",
      "→ Extracting 2397 tiles from 'TCGA-AA-A00R' at level 1\n"
     ]
    },
    {
     "data": {
      "application/vnd.jupyter.widget-view+json": {
       "model_id": "592344bb992a47d3be579ade49552649",
       "version_major": 2,
       "version_minor": 0
      },
      "text/plain": [
       "TCGA-AA-A00R:   0%|          | 0/2397 [00:00<?, ?it/s]"
      ]
     },
     "metadata": {},
     "output_type": "display_data"
    },
    {
     "name": "stdout",
     "output_type": "stream",
     "text": [
      "\n",
      "→ Extracting 4550 tiles from 'TCGA-AA-3554' at level 1\n"
     ]
    },
    {
     "data": {
      "application/vnd.jupyter.widget-view+json": {
       "model_id": "c8ace6cc6dd64610983d83c6ff7f1bfe",
       "version_major": 2,
       "version_minor": 0
      },
      "text/plain": [
       "TCGA-AA-3554:   0%|          | 0/4550 [00:00<?, ?it/s]"
      ]
     },
     "metadata": {},
     "output_type": "display_data"
    },
    {
     "name": "stdout",
     "output_type": "stream",
     "text": [
      "\n",
      "→ Extracting 2820 tiles from 'TCGA-AA-A00U' at level 1\n"
     ]
    },
    {
     "data": {
      "application/vnd.jupyter.widget-view+json": {
       "model_id": "08c08629d7564724af19a6ae7f17676e",
       "version_major": 2,
       "version_minor": 0
      },
      "text/plain": [
       "TCGA-AA-A00U:   0%|          | 0/2820 [00:00<?, ?it/s]"
      ]
     },
     "metadata": {},
     "output_type": "display_data"
    },
    {
     "name": "stdout",
     "output_type": "stream",
     "text": [
      "\n",
      "→ Extracting 2970 tiles from 'TCGA-AA-3692' at level 1\n"
     ]
    },
    {
     "data": {
      "application/vnd.jupyter.widget-view+json": {
       "model_id": "a7f2ff1690764dc2b67b5a2af484f7b1",
       "version_major": 2,
       "version_minor": 0
      },
      "text/plain": [
       "TCGA-AA-3692:   0%|          | 0/2970 [00:00<?, ?it/s]"
      ]
     },
     "metadata": {},
     "output_type": "display_data"
    },
    {
     "name": "stdout",
     "output_type": "stream",
     "text": [
      "\n",
      "→ Extracting 3240 tiles from 'TCGA-AA-3837' at level 1\n"
     ]
    },
    {
     "data": {
      "application/vnd.jupyter.widget-view+json": {
       "model_id": "f4914a6c13074f2185abaac45dbccb4c",
       "version_major": 2,
       "version_minor": 0
      },
      "text/plain": [
       "TCGA-AA-3837:   0%|          | 0/3240 [00:00<?, ?it/s]"
      ]
     },
     "metadata": {},
     "output_type": "display_data"
    },
    {
     "name": "stdout",
     "output_type": "stream",
     "text": [
      "\n",
      "→ Extracting 120 tiles from 'TCGA-AA-3494' at level 1\n"
     ]
    },
    {
     "data": {
      "application/vnd.jupyter.widget-view+json": {
       "model_id": "6a8e56b90d8e40579d43c6d5e0d3cd03",
       "version_major": 2,
       "version_minor": 0
      },
      "text/plain": [
       "TCGA-AA-3494:   0%|          | 0/120 [00:00<?, ?it/s]"
      ]
     },
     "metadata": {},
     "output_type": "display_data"
    },
    {
     "name": "stdout",
     "output_type": "stream",
     "text": [
      "\n",
      "→ Extracting 3233 tiles from 'TCGA-AA-A00N' at level 1\n"
     ]
    },
    {
     "data": {
      "application/vnd.jupyter.widget-view+json": {
       "model_id": "8883447dd4e74c839eb42486344bb7ad",
       "version_major": 2,
       "version_minor": 0
      },
      "text/plain": [
       "TCGA-AA-A00N:   0%|          | 0/3233 [00:00<?, ?it/s]"
      ]
     },
     "metadata": {},
     "output_type": "display_data"
    },
    {
     "name": "stdout",
     "output_type": "stream",
     "text": [
      "\n",
      "→ Extracting 6970 tiles from 'TCGA-AY-4071' at level 1\n"
     ]
    },
    {
     "data": {
      "application/vnd.jupyter.widget-view+json": {
       "model_id": "dfccaab0f0f240de82ba4388c3aecb3a",
       "version_major": 2,
       "version_minor": 0
      },
      "text/plain": [
       "TCGA-AY-4071:   0%|          | 0/6970 [00:00<?, ?it/s]"
      ]
     },
     "metadata": {},
     "output_type": "display_data"
    },
    {
     "name": "stdout",
     "output_type": "stream",
     "text": [
      "\n",
      "→ Extracting 11264 tiles from 'TCGA-AA-3561' at level 1\n"
     ]
    },
    {
     "data": {
      "application/vnd.jupyter.widget-view+json": {
       "model_id": "f04ca00cb7d6493080633a7d170e9261",
       "version_major": 2,
       "version_minor": 0
      },
      "text/plain": [
       "TCGA-AA-3561:   0%|          | 0/11264 [00:00<?, ?it/s]"
      ]
     },
     "metadata": {},
     "output_type": "display_data"
    },
    {
     "name": "stdout",
     "output_type": "stream",
     "text": [
      "\n",
      "→ Extracting 4066 tiles from 'TCGA-AA-3968' at level 1\n"
     ]
    },
    {
     "data": {
      "application/vnd.jupyter.widget-view+json": {
       "model_id": "3132740d19f941b9ab764b4356c95fc1",
       "version_major": 2,
       "version_minor": 0
      },
      "text/plain": [
       "TCGA-AA-3968:   0%|          | 0/4066 [00:00<?, ?it/s]"
      ]
     },
     "metadata": {},
     "output_type": "display_data"
    },
    {
     "name": "stdout",
     "output_type": "stream",
     "text": [
      "\n",
      "→ Extracting 4836 tiles from 'TCGA-AA-3842' at level 1\n"
     ]
    },
    {
     "data": {
      "application/vnd.jupyter.widget-view+json": {
       "model_id": "1b2eb15ad07e4216bd1a8908ccce7181",
       "version_major": 2,
       "version_minor": 0
      },
      "text/plain": [
       "TCGA-AA-3842:   0%|          | 0/4836 [00:00<?, ?it/s]"
      ]
     },
     "metadata": {},
     "output_type": "display_data"
    },
    {
     "name": "stdout",
     "output_type": "stream",
     "text": [
      "\n",
      "→ Extracting 3479 tiles from 'TCGA-AA-A017' at level 1\n"
     ]
    },
    {
     "data": {
      "application/vnd.jupyter.widget-view+json": {
       "model_id": "27b0ca37925844a9aa9dcd12f0d1cc58",
       "version_major": 2,
       "version_minor": 0
      },
      "text/plain": [
       "TCGA-AA-A017:   0%|          | 0/3479 [00:00<?, ?it/s]"
      ]
     },
     "metadata": {},
     "output_type": "display_data"
    },
    {
     "name": "stdout",
     "output_type": "stream",
     "text": [
      "\n",
      "→ Extracting 2772 tiles from 'TCGA-AA-3514' at level 1\n"
     ]
    },
    {
     "data": {
      "application/vnd.jupyter.widget-view+json": {
       "model_id": "e94cd0eadabe435fa2bb6c14f0561713",
       "version_major": 2,
       "version_minor": 0
      },
      "text/plain": [
       "TCGA-AA-3514:   0%|          | 0/2772 [00:00<?, ?it/s]"
      ]
     },
     "metadata": {},
     "output_type": "display_data"
    },
    {
     "name": "stdout",
     "output_type": "stream",
     "text": [
      "\n",
      "→ Extracting 11385 tiles from 'TCGA-AA-3966' at level 1\n"
     ]
    },
    {
     "data": {
      "application/vnd.jupyter.widget-view+json": {
       "model_id": "6e36093fe9214618836d7a7cbab1894d",
       "version_major": 2,
       "version_minor": 0
      },
      "text/plain": [
       "TCGA-AA-3966:   0%|          | 0/11385 [00:00<?, ?it/s]"
      ]
     },
     "metadata": {},
     "output_type": "display_data"
    },
    {
     "name": "stdout",
     "output_type": "stream",
     "text": [
      "\n",
      "→ Extracting 6160 tiles from 'TCGA-AA-A010' at level 1\n"
     ]
    },
    {
     "data": {
      "application/vnd.jupyter.widget-view+json": {
       "model_id": "21e4a770479d45d69fefcad9765812f4",
       "version_major": 2,
       "version_minor": 0
      },
      "text/plain": [
       "TCGA-AA-A010:   0%|          | 0/6160 [00:00<?, ?it/s]"
      ]
     },
     "metadata": {},
     "output_type": "display_data"
    },
    {
     "name": "stdout",
     "output_type": "stream",
     "text": [
      "\n",
      "→ Extracting 2128 tiles from 'TCGA-AA-3845' at level 1\n"
     ]
    },
    {
     "data": {
      "application/vnd.jupyter.widget-view+json": {
       "model_id": "2eaed1d9dac54fbc85f8de01f97e5744",
       "version_major": 2,
       "version_minor": 0
      },
      "text/plain": [
       "TCGA-AA-3845:   0%|          | 0/2128 [00:00<?, ?it/s]"
      ]
     },
     "metadata": {},
     "output_type": "display_data"
    },
    {
     "name": "stdout",
     "output_type": "stream",
     "text": [
      "\n",
      "→ Extracting 1568 tiles from 'TCGA-AA-3678' at level 1\n"
     ]
    },
    {
     "data": {
      "application/vnd.jupyter.widget-view+json": {
       "model_id": "14ea7be2eb4a4a40b881e46547d82fa3",
       "version_major": 2,
       "version_minor": 0
      },
      "text/plain": [
       "TCGA-AA-3678:   0%|          | 0/1568 [00:00<?, ?it/s]"
      ]
     },
     "metadata": {},
     "output_type": "display_data"
    },
    {
     "name": "stdout",
     "output_type": "stream",
     "text": [
      "\n",
      "→ Extracting 6670 tiles from 'TCGA-AA-3970' at level 1\n"
     ]
    },
    {
     "data": {
      "application/vnd.jupyter.widget-view+json": {
       "model_id": "8736d68e45d64e9e8d87551c973cfe74",
       "version_major": 2,
       "version_minor": 0
      },
      "text/plain": [
       "TCGA-AA-3970:   0%|          | 0/6670 [00:00<?, ?it/s]"
      ]
     },
     "metadata": {},
     "output_type": "display_data"
    },
    {
     "name": "stdout",
     "output_type": "stream",
     "text": [
      "\n",
      "→ Extracting 3102 tiles from 'TCGA-A6-2672' at level 1\n"
     ]
    },
    {
     "data": {
      "application/vnd.jupyter.widget-view+json": {
       "model_id": "f98bed9165f147669bd77f21a904bfd8",
       "version_major": 2,
       "version_minor": 0
      },
      "text/plain": [
       "TCGA-A6-2672:   0%|          | 0/3102 [00:00<?, ?it/s]"
      ]
     },
     "metadata": {},
     "output_type": "display_data"
    },
    {
     "name": "stdout",
     "output_type": "stream",
     "text": [
      "\n",
      "→ Extracting 4752 tiles from 'TCGA-AA-3854' at level 1\n"
     ]
    },
    {
     "data": {
      "application/vnd.jupyter.widget-view+json": {
       "model_id": "c4cac11cc853413081fd94cda9638f1a",
       "version_major": 2,
       "version_minor": 0
      },
      "text/plain": [
       "TCGA-AA-3854:   0%|          | 0/4752 [00:00<?, ?it/s]"
      ]
     },
     "metadata": {},
     "output_type": "display_data"
    },
    {
     "name": "stdout",
     "output_type": "stream",
     "text": [
      "\n",
      "→ Extracting 2535 tiles from 'TCGA-AA-3977' at level 1\n"
     ]
    },
    {
     "data": {
      "application/vnd.jupyter.widget-view+json": {
       "model_id": "93d0f55c42c44ca084f6cab36dc777fe",
       "version_major": 2,
       "version_minor": 0
      },
      "text/plain": [
       "TCGA-AA-3977:   0%|          | 0/2535 [00:00<?, ?it/s]"
      ]
     },
     "metadata": {},
     "output_type": "display_data"
    },
    {
     "name": "stdout",
     "output_type": "stream",
     "text": [
      "\n",
      "→ Extracting 1770 tiles from 'TCGA-AA-A01F' at level 1\n"
     ]
    },
    {
     "data": {
      "application/vnd.jupyter.widget-view+json": {
       "model_id": "0468f618e6e84076a02c88cc36e0b666",
       "version_major": 2,
       "version_minor": 0
      },
      "text/plain": [
       "TCGA-AA-A01F:   0%|          | 0/1770 [00:00<?, ?it/s]"
      ]
     },
     "metadata": {},
     "output_type": "display_data"
    },
    {
     "name": "stdout",
     "output_type": "stream",
     "text": [
      "\n",
      "→ Extracting 6715 tiles from 'TCGA-AA-3979' at level 1\n"
     ]
    },
    {
     "data": {
      "application/vnd.jupyter.widget-view+json": {
       "model_id": "49059fdbca704e18b7a7213239bfb200",
       "version_major": 2,
       "version_minor": 0
      },
      "text/plain": [
       "TCGA-AA-3979:   0%|          | 0/6715 [00:00<?, ?it/s]"
      ]
     },
     "metadata": {},
     "output_type": "display_data"
    },
    {
     "name": "stdout",
     "output_type": "stream",
     "text": [
      "\n",
      "→ Extracting 10368 tiles from 'TCGA-AA-3821' at level 1\n"
     ]
    },
    {
     "data": {
      "application/vnd.jupyter.widget-view+json": {
       "model_id": "d74ccb37f45e4747b6cf8638f28fba22",
       "version_major": 2,
       "version_minor": 0
      },
      "text/plain": [
       "TCGA-AA-3821:   0%|          | 0/10368 [00:00<?, ?it/s]"
      ]
     },
     "metadata": {},
     "output_type": "display_data"
    },
    {
     "name": "stdout",
     "output_type": "stream",
     "text": [
      "\n",
      "→ Extracting 8556 tiles from 'TCGA-AA-3667' at level 1\n"
     ]
    },
    {
     "data": {
      "application/vnd.jupyter.widget-view+json": {
       "model_id": "16f110ac924b44a8b52f9522be90040f",
       "version_major": 2,
       "version_minor": 0
      },
      "text/plain": [
       "TCGA-AA-3667:   0%|          | 0/8556 [00:00<?, ?it/s]"
      ]
     },
     "metadata": {},
     "output_type": "display_data"
    },
    {
     "name": "stdout",
     "output_type": "stream",
     "text": [
      "\n",
      "→ Extracting 11000 tiles from 'TCGA-AA-A02J' at level 1\n"
     ]
    },
    {
     "data": {
      "application/vnd.jupyter.widget-view+json": {
       "model_id": "cd1f5f29fd4849b3bc450d2fed04c5d8",
       "version_major": 2,
       "version_minor": 0
      },
      "text/plain": [
       "TCGA-AA-A02J:   0%|          | 0/11000 [00:00<?, ?it/s]"
      ]
     },
     "metadata": {},
     "output_type": "display_data"
    },
    {
     "name": "stdout",
     "output_type": "stream",
     "text": [
      "\n",
      "→ Extracting 10935 tiles from 'TCGA-AA-A01T' at level 1\n"
     ]
    },
    {
     "data": {
      "application/vnd.jupyter.widget-view+json": {
       "model_id": "6982371d370e44028c0855bfeb3cb6ff",
       "version_major": 2,
       "version_minor": 0
      },
      "text/plain": [
       "TCGA-AA-A01T:   0%|          | 0/10935 [00:00<?, ?it/s]"
      ]
     },
     "metadata": {},
     "output_type": "display_data"
    },
    {
     "name": "stdout",
     "output_type": "stream",
     "text": [
      "\n",
      "→ Extracting 2684 tiles from 'TCGA-AA-3930' at level 1\n"
     ]
    },
    {
     "data": {
      "application/vnd.jupyter.widget-view+json": {
       "model_id": "8ca7753dd2ad4e4499c4e0f217c0a9e7",
       "version_major": 2,
       "version_minor": 0
      },
      "text/plain": [
       "TCGA-AA-3930:   0%|          | 0/2684 [00:00<?, ?it/s]"
      ]
     },
     "metadata": {},
     "output_type": "display_data"
    },
    {
     "name": "stdout",
     "output_type": "stream",
     "text": [
      "\n",
      "→ Extracting 3249 tiles from 'TCGA-AA-3542' at level 1\n"
     ]
    },
    {
     "data": {
      "application/vnd.jupyter.widget-view+json": {
       "model_id": "b61a2ade7f464b38b82a871086902595",
       "version_major": 2,
       "version_minor": 0
      },
      "text/plain": [
       "TCGA-AA-3542:   0%|          | 0/3249 [00:00<?, ?it/s]"
      ]
     },
     "metadata": {},
     "output_type": "display_data"
    },
    {
     "name": "stdout",
     "output_type": "stream",
     "text": [
      "\n",
      "→ Extracting 13600 tiles from 'TCGA-AA-3684' at level 1\n"
     ]
    },
    {
     "data": {
      "application/vnd.jupyter.widget-view+json": {
       "model_id": "e6131cff72834124b649a2c9f12521f6",
       "version_major": 2,
       "version_minor": 0
      },
      "text/plain": [
       "TCGA-AA-3684:   0%|          | 0/13600 [00:00<?, ?it/s]"
      ]
     },
     "metadata": {},
     "output_type": "display_data"
    },
    {
     "name": "stdout",
     "output_type": "stream",
     "text": [
      "\n",
      "→ Extracting 4982 tiles from 'TCGA-AA-A01S' at level 1\n"
     ]
    },
    {
     "data": {
      "application/vnd.jupyter.widget-view+json": {
       "model_id": "eb6ba403d47a4043bc6a18fb6d159910",
       "version_major": 2,
       "version_minor": 0
      },
      "text/plain": [
       "TCGA-AA-A01S:   0%|          | 0/4982 [00:00<?, ?it/s]"
      ]
     },
     "metadata": {},
     "output_type": "display_data"
    },
    {
     "name": "stdout",
     "output_type": "stream",
     "text": [
      "\n",
      "→ Extracting 1360 tiles from 'TCGA-AA-3814' at level 1\n"
     ]
    },
    {
     "data": {
      "application/vnd.jupyter.widget-view+json": {
       "model_id": "4f6558c3c43c49cbbed0e3301adb93d4",
       "version_major": 2,
       "version_minor": 0
      },
      "text/plain": [
       "TCGA-AA-3814:   0%|          | 0/1360 [00:00<?, ?it/s]"
      ]
     },
     "metadata": {},
     "output_type": "display_data"
    },
    {
     "name": "stdout",
     "output_type": "stream",
     "text": [
      "\n",
      "→ Extracting 14688 tiles from 'TCGA-AA-3866' at level 1\n"
     ]
    },
    {
     "data": {
      "application/vnd.jupyter.widget-view+json": {
       "model_id": "4744031e99474fc9b480113d59000f2e",
       "version_major": 2,
       "version_minor": 0
      },
      "text/plain": [
       "TCGA-AA-3866:   0%|          | 0/14688 [00:00<?, ?it/s]"
      ]
     },
     "metadata": {},
     "output_type": "display_data"
    },
    {
     "name": "stdout",
     "output_type": "stream",
     "text": [
      "\n",
      "→ Extracting 9453 tiles from 'TCGA-AA-3530' at level 1\n"
     ]
    },
    {
     "data": {
      "application/vnd.jupyter.widget-view+json": {
       "model_id": "5ee28bc05cfc4361b6fee45970a7eb74",
       "version_major": 2,
       "version_minor": 0
      },
      "text/plain": [
       "TCGA-AA-3530:   0%|          | 0/9453 [00:00<?, ?it/s]"
      ]
     },
     "metadata": {},
     "output_type": "display_data"
    },
    {
     "name": "stdout",
     "output_type": "stream",
     "text": [
      "\n",
      "→ Extracting 6264 tiles from 'TCGA-AA-3994' at level 1\n"
     ]
    },
    {
     "data": {
      "application/vnd.jupyter.widget-view+json": {
       "model_id": "e59db1e4940e4903a3ec5c92c6d242c4",
       "version_major": 2,
       "version_minor": 0
      },
      "text/plain": [
       "TCGA-AA-3994:   0%|          | 0/6264 [00:00<?, ?it/s]"
      ]
     },
     "metadata": {},
     "output_type": "display_data"
    },
    {
     "name": "stdout",
     "output_type": "stream",
     "text": [
      "\n",
      "→ Extracting 6675 tiles from 'TCGA-AA-3939' at level 1\n"
     ]
    },
    {
     "data": {
      "application/vnd.jupyter.widget-view+json": {
       "model_id": "ab61a166c9c749d197422425303d00e1",
       "version_major": 2,
       "version_minor": 0
      },
      "text/plain": [
       "TCGA-AA-3939:   0%|          | 0/6675 [00:00<?, ?it/s]"
      ]
     },
     "metadata": {},
     "output_type": "display_data"
    },
    {
     "name": "stdout",
     "output_type": "stream",
     "text": [
      "\n",
      "→ Extracting 8064 tiles from 'TCGA-AZ-4308' at level 1\n"
     ]
    },
    {
     "data": {
      "application/vnd.jupyter.widget-view+json": {
       "model_id": "2b6eb5a914d9461c9b5d6795a0e6d485",
       "version_major": 2,
       "version_minor": 0
      },
      "text/plain": [
       "TCGA-AZ-4308:   0%|          | 0/8064 [00:00<?, ?it/s]"
      ]
     },
     "metadata": {},
     "output_type": "display_data"
    },
    {
     "name": "stdout",
     "output_type": "stream",
     "text": [
      "\n",
      "→ Extracting 7308 tiles from 'TCGA-AA-3861' at level 1\n"
     ]
    },
    {
     "data": {
      "application/vnd.jupyter.widget-view+json": {
       "model_id": "41770e7e770f48ddbad41eebc76653ef",
       "version_major": 2,
       "version_minor": 0
      },
      "text/plain": [
       "TCGA-AA-3861:   0%|          | 0/7308 [00:00<?, ?it/s]"
      ]
     },
     "metadata": {},
     "output_type": "display_data"
    },
    {
     "name": "stdout",
     "output_type": "stream",
     "text": [
      "\n",
      "→ Extracting 8772 tiles from 'TCGA-AA-A00A' at level 1\n"
     ]
    },
    {
     "data": {
      "application/vnd.jupyter.widget-view+json": {
       "model_id": "b0a5d19462524ee894efad72d2bfc9be",
       "version_major": 2,
       "version_minor": 0
      },
      "text/plain": [
       "TCGA-AA-A00A:   0%|          | 0/8772 [00:00<?, ?it/s]"
      ]
     },
     "metadata": {},
     "output_type": "display_data"
    },
    {
     "name": "stdout",
     "output_type": "stream",
     "text": [
      "\n",
      "→ Extracting 3990 tiles from 'TCGA-AA-3844' at level 1\n"
     ]
    },
    {
     "data": {
      "application/vnd.jupyter.widget-view+json": {
       "model_id": "68b16d283a9847d4bccd2b0c1cd16538",
       "version_major": 2,
       "version_minor": 0
      },
      "text/plain": [
       "TCGA-AA-3844:   0%|          | 0/3990 [00:00<?, ?it/s]"
      ]
     },
     "metadata": {},
     "output_type": "display_data"
    },
    {
     "name": "stdout",
     "output_type": "stream",
     "text": [
      "\n",
      "→ Extracting 5670 tiles from 'TCGA-AA-3679' at level 1\n"
     ]
    },
    {
     "data": {
      "application/vnd.jupyter.widget-view+json": {
       "model_id": "c322d657b9974bc5af5ecee1c9b36261",
       "version_major": 2,
       "version_minor": 0
      },
      "text/plain": [
       "TCGA-AA-3679:   0%|          | 0/5670 [00:00<?, ?it/s]"
      ]
     },
     "metadata": {},
     "output_type": "display_data"
    },
    {
     "name": "stdout",
     "output_type": "stream",
     "text": [
      "\n",
      "→ Extracting 5995 tiles from 'TCGA-CM-4752' at level 1\n"
     ]
    },
    {
     "data": {
      "application/vnd.jupyter.widget-view+json": {
       "model_id": "249b0dbbf7d14184864646f2192a2bf8",
       "version_major": 2,
       "version_minor": 0
      },
      "text/plain": [
       "TCGA-CM-4752:   0%|          | 0/5995 [00:00<?, ?it/s]"
      ]
     },
     "metadata": {},
     "output_type": "display_data"
    },
    {
     "name": "stdout",
     "output_type": "stream",
     "text": [
      "\n",
      "→ Extracting 3870 tiles from 'TCGA-AA-A00F' at level 1\n"
     ]
    },
    {
     "data": {
      "application/vnd.jupyter.widget-view+json": {
       "model_id": "154c45ecbe8544ebb4ec4f902f5caf45",
       "version_major": 2,
       "version_minor": 0
      },
      "text/plain": [
       "TCGA-AA-A00F:   0%|          | 0/3870 [00:00<?, ?it/s]"
      ]
     },
     "metadata": {},
     "output_type": "display_data"
    },
    {
     "name": "stdout",
     "output_type": "stream",
     "text": [
      "\n",
      "→ Extracting 2550 tiles from 'TCGA-AA-3967' at level 1\n"
     ]
    },
    {
     "data": {
      "application/vnd.jupyter.widget-view+json": {
       "model_id": "76d06df0d7a44fc59de3b3172e581b3a",
       "version_major": 2,
       "version_minor": 0
      },
      "text/plain": [
       "TCGA-AA-3967:   0%|          | 0/2550 [00:00<?, ?it/s]"
      ]
     },
     "metadata": {},
     "output_type": "display_data"
    },
    {
     "name": "stdout",
     "output_type": "stream",
     "text": [
      "\n",
      "→ Extracting 8424 tiles from 'TCGA-AA-3831' at level 1\n"
     ]
    },
    {
     "data": {
      "application/vnd.jupyter.widget-view+json": {
       "model_id": "76a884dd2c07467fa63da296f47bca60",
       "version_major": 2,
       "version_minor": 0
      },
      "text/plain": [
       "TCGA-AA-3831:   0%|          | 0/8424 [00:00<?, ?it/s]"
      ]
     },
     "metadata": {},
     "output_type": "display_data"
    },
    {
     "name": "stdout",
     "output_type": "stream",
     "text": [
      "\n",
      "→ Extracting 1739 tiles from 'TCGA-AA-A00O' at level 1\n"
     ]
    },
    {
     "data": {
      "application/vnd.jupyter.widget-view+json": {
       "model_id": "2c72b3b1a160419393ca58dc8b3715e6",
       "version_major": 2,
       "version_minor": 0
      },
      "text/plain": [
       "TCGA-AA-A00O:   0%|          | 0/1739 [00:00<?, ?it/s]"
      ]
     },
     "metadata": {},
     "output_type": "display_data"
    },
    {
     "name": "stdout",
     "output_type": "stream",
     "text": [
      "\n",
      "→ Extracting 3048 tiles from 'TCGA-AY-4070' at level 1\n"
     ]
    },
    {
     "data": {
      "application/vnd.jupyter.widget-view+json": {
       "model_id": "64c1f5da01ee426e811705409ea10c12",
       "version_major": 2,
       "version_minor": 0
      },
      "text/plain": [
       "TCGA-AY-4070:   0%|          | 0/3048 [00:00<?, ?it/s]"
      ]
     },
     "metadata": {},
     "output_type": "display_data"
    },
    {
     "name": "stdout",
     "output_type": "stream",
     "text": [
      "\n",
      "→ Extracting 2385 tiles from 'TCGA-AA-3560' at level 1\n"
     ]
    },
    {
     "data": {
      "application/vnd.jupyter.widget-view+json": {
       "model_id": "1d91f1272a5a49e885761d24d7bc6cde",
       "version_major": 2,
       "version_minor": 0
      },
      "text/plain": [
       "TCGA-AA-3560:   0%|          | 0/2385 [00:00<?, ?it/s]"
      ]
     },
     "metadata": {},
     "output_type": "display_data"
    },
    {
     "name": "stdout",
     "output_type": "stream",
     "text": [
      "\n",
      "→ Extracting 5626 tiles from 'TCGA-AA-3529' at level 1\n"
     ]
    },
    {
     "data": {
      "application/vnd.jupyter.widget-view+json": {
       "model_id": "25bc44dabb5b4baa9e9fc655f9a04aed",
       "version_major": 2,
       "version_minor": 0
      },
      "text/plain": [
       "TCGA-AA-3529:   0%|          | 0/5626 [00:00<?, ?it/s]"
      ]
     },
     "metadata": {},
     "output_type": "display_data"
    },
    {
     "name": "stdout",
     "output_type": "stream",
     "text": [
      "\n",
      "→ Extracting 13932 tiles from 'TCGA-AA-A03J' at level 1\n"
     ]
    },
    {
     "data": {
      "application/vnd.jupyter.widget-view+json": {
       "model_id": "26553af1900047d6ab095b85d92cb225",
       "version_major": 2,
       "version_minor": 0
      },
      "text/plain": [
       "TCGA-AA-A03J:   0%|          | 0/13932 [00:00<?, ?it/s]"
      ]
     },
     "metadata": {},
     "output_type": "display_data"
    },
    {
     "name": "stdout",
     "output_type": "stream",
     "text": [
      "\n",
      "→ Extracting 3078 tiles from 'TCGA-AA-3555' at level 1\n"
     ]
    },
    {
     "data": {
      "application/vnd.jupyter.widget-view+json": {
       "model_id": "54074ee0791845509c64789bc238237c",
       "version_major": 2,
       "version_minor": 0
      },
      "text/plain": [
       "TCGA-AA-3555:   0%|          | 0/3078 [00:00<?, ?it/s]"
      ]
     },
     "metadata": {},
     "output_type": "display_data"
    },
    {
     "name": "stdout",
     "output_type": "stream",
     "text": [
      "\n",
      "→ Extracting 5576 tiles from 'TCGA-AA-3693' at level 1\n"
     ]
    },
    {
     "data": {
      "application/vnd.jupyter.widget-view+json": {
       "model_id": "0166a1e0e59e4d8085be763cfaac79a9",
       "version_major": 2,
       "version_minor": 0
      },
      "text/plain": [
       "TCGA-AA-3693:   0%|          | 0/5576 [00:00<?, ?it/s]"
      ]
     },
     "metadata": {},
     "output_type": "display_data"
    },
    {
     "name": "stdout",
     "output_type": "stream",
     "text": [
      "\n",
      "→ Extracting 3510 tiles from 'TCGA-AA-3552' at level 1\n"
     ]
    },
    {
     "data": {
      "application/vnd.jupyter.widget-view+json": {
       "model_id": "e7e1185a22fe41858a317ffaf55aaeea",
       "version_major": 2,
       "version_minor": 0
      },
      "text/plain": [
       "TCGA-AA-3552:   0%|          | 0/3510 [00:00<?, ?it/s]"
      ]
     },
     "metadata": {},
     "output_type": "display_data"
    },
    {
     "name": "stdout",
     "output_type": "stream",
     "text": [
      "\n",
      "→ Extracting 4136 tiles from 'TCGA-A6-2681' at level 1\n"
     ]
    },
    {
     "data": {
      "application/vnd.jupyter.widget-view+json": {
       "model_id": "884ce9cc508d460ead699090f676ccf1",
       "version_major": 2,
       "version_minor": 0
      },
      "text/plain": [
       "TCGA-A6-2681:   0%|          | 0/4136 [00:00<?, ?it/s]"
      ]
     },
     "metadata": {},
     "output_type": "display_data"
    },
    {
     "name": "stdout",
     "output_type": "stream",
     "text": [
      "\n",
      "→ Extracting 2565 tiles from 'TCGA-AA-3520' at level 1\n"
     ]
    },
    {
     "data": {
      "application/vnd.jupyter.widget-view+json": {
       "model_id": "2e38fcff7f134d8ca82ec9a213e5bd4b",
       "version_major": 2,
       "version_minor": 0
      },
      "text/plain": [
       "TCGA-AA-3520:   0%|          | 0/2565 [00:00<?, ?it/s]"
      ]
     },
     "metadata": {},
     "output_type": "display_data"
    },
    {
     "name": "stdout",
     "output_type": "stream",
     "text": [
      "\n",
      "→ Extracting 2072 tiles from 'TCGA-AA-3952' at level 1\n"
     ]
    },
    {
     "data": {
      "application/vnd.jupyter.widget-view+json": {
       "model_id": "c55c8b6a1bc84d1bac110ffb4f6ad513",
       "version_major": 2,
       "version_minor": 0
      },
      "text/plain": [
       "TCGA-AA-3952:   0%|          | 0/2072 [00:00<?, ?it/s]"
      ]
     },
     "metadata": {},
     "output_type": "display_data"
    },
    {
     "name": "stdout",
     "output_type": "stream",
     "text": [
      "\n",
      "→ Extracting 5796 tiles from 'TCGA-AA-3955' at level 1\n"
     ]
    },
    {
     "data": {
      "application/vnd.jupyter.widget-view+json": {
       "model_id": "3e9f4e5dc03446e5ba730a34505c2cd4",
       "version_major": 2,
       "version_minor": 0
      },
      "text/plain": [
       "TCGA-AA-3955:   0%|          | 0/5796 [00:00<?, ?it/s]"
      ]
     },
     "metadata": {},
     "output_type": "display_data"
    },
    {
     "name": "stdout",
     "output_type": "stream",
     "text": [
      "\n",
      "→ Extracting 6480 tiles from 'TCGA-AA-3527' at level 1\n"
     ]
    },
    {
     "data": {
      "application/vnd.jupyter.widget-view+json": {
       "model_id": "decc3431a27545578ae8cbcabb1da07c",
       "version_major": 2,
       "version_minor": 0
      },
      "text/plain": [
       "TCGA-AA-3527:   0%|          | 0/6480 [00:00<?, ?it/s]"
      ]
     },
     "metadata": {},
     "output_type": "display_data"
    },
    {
     "name": "stdout",
     "output_type": "stream",
     "text": [
      "\n",
      "→ Extracting 12528 tiles from 'TCGA-AA-3984' at level 1\n"
     ]
    },
    {
     "data": {
      "application/vnd.jupyter.widget-view+json": {
       "model_id": "b77a55ef281649ef92a8e8cb8968d55b",
       "version_major": 2,
       "version_minor": 0
      },
      "text/plain": [
       "TCGA-AA-3984:   0%|          | 0/12528 [00:00<?, ?it/s]"
      ]
     },
     "metadata": {},
     "output_type": "display_data"
    },
    {
     "name": "stdout",
     "output_type": "stream",
     "text": [
      "\n",
      "→ Extracting 12496 tiles from 'TCGA-AA-A024' at level 1\n"
     ]
    },
    {
     "data": {
      "application/vnd.jupyter.widget-view+json": {
       "model_id": "78111bd8aa8240279257448f01229546",
       "version_major": 2,
       "version_minor": 0
      },
      "text/plain": [
       "TCGA-AA-A024:   0%|          | 0/12496 [00:00<?, ?it/s]"
      ]
     },
     "metadata": {},
     "output_type": "display_data"
    },
    {
     "name": "stdout",
     "output_type": "stream",
     "text": [
      "\n",
      "→ Extracting 1692 tiles from 'TCGA-AA-A00Z' at level 1\n"
     ]
    },
    {
     "data": {
      "application/vnd.jupyter.widget-view+json": {
       "model_id": "665942ba35ae4923bc04fb02c8412211",
       "version_major": 2,
       "version_minor": 0
      },
      "text/plain": [
       "TCGA-AA-A00Z:   0%|          | 0/1692 [00:00<?, ?it/s]"
      ]
     },
     "metadata": {},
     "output_type": "display_data"
    },
    {
     "name": "stdout",
     "output_type": "stream",
     "text": [
      "\n",
      "→ Extracting 4424 tiles from 'TCGA-AA-A02E' at level 1\n"
     ]
    },
    {
     "data": {
      "application/vnd.jupyter.widget-view+json": {
       "model_id": "018b33b0b46b4b0ca3f55a86d0c8cd13",
       "version_major": 2,
       "version_minor": 0
      },
      "text/plain": [
       "TCGA-AA-A02E:   0%|          | 0/4424 [00:00<?, ?it/s]"
      ]
     },
     "metadata": {},
     "output_type": "display_data"
    },
    {
     "name": "stdout",
     "output_type": "stream",
     "text": [
      "\n",
      "→ Extracting 2332 tiles from 'TCGA-AA-3860' at level 1\n"
     ]
    },
    {
     "data": {
      "application/vnd.jupyter.widget-view+json": {
       "model_id": "a8c4d758625549b3a1e6d7b3b787136e",
       "version_major": 2,
       "version_minor": 0
      },
      "text/plain": [
       "TCGA-AA-3860:   0%|          | 0/2332 [00:00<?, ?it/s]"
      ]
     },
     "metadata": {},
     "output_type": "display_data"
    },
    {
     "name": "stdout",
     "output_type": "stream",
     "text": [
      "\n",
      "→ Extracting 1960 tiles from 'TCGA-AA-3867' at level 1\n"
     ]
    },
    {
     "data": {
      "application/vnd.jupyter.widget-view+json": {
       "model_id": "1bfaa5b407af4e1d9072603da338f84b",
       "version_major": 2,
       "version_minor": 0
      },
      "text/plain": [
       "TCGA-AA-3867:   0%|          | 0/1960 [00:00<?, ?it/s]"
      ]
     },
     "metadata": {},
     "output_type": "display_data"
    },
    {
     "name": "stdout",
     "output_type": "stream",
     "text": [
      "\n",
      "→ Extracting 12780 tiles from 'TCGA-AA-3531' at level 1\n"
     ]
    },
    {
     "data": {
      "application/vnd.jupyter.widget-view+json": {
       "model_id": "4a2af1d68f8d44648e66f0328af2228e",
       "version_major": 2,
       "version_minor": 0
      },
      "text/plain": [
       "TCGA-AA-3531:   0%|          | 0/12780 [00:00<?, ?it/s]"
      ]
     },
     "metadata": {},
     "output_type": "display_data"
    },
    {
     "name": "stdout",
     "output_type": "stream",
     "text": [
      "\n",
      "→ Extracting 2760 tiles from 'TCGA-AA-3543' at level 1\n"
     ]
    },
    {
     "data": {
      "application/vnd.jupyter.widget-view+json": {
       "model_id": "74421713bfdf4f67bd03a930f5a05f60",
       "version_major": 2,
       "version_minor": 0
      },
      "text/plain": [
       "TCGA-AA-3543:   0%|          | 0/2760 [00:00<?, ?it/s]"
      ]
     },
     "metadata": {},
     "output_type": "display_data"
    },
    {
     "name": "stdout",
     "output_type": "stream",
     "text": [
      "\n",
      "→ Extracting 10191 tiles from 'TCGA-AA-A01R' at level 1\n"
     ]
    },
    {
     "data": {
      "application/vnd.jupyter.widget-view+json": {
       "model_id": "c7a7c1ffac1f44449ccd8bd5e9eccb44",
       "version_major": 2,
       "version_minor": 0
      },
      "text/plain": [
       "TCGA-AA-A01R:   0%|          | 0/10191 [00:00<?, ?it/s]"
      ]
     },
     "metadata": {},
     "output_type": "display_data"
    },
    {
     "name": "stdout",
     "output_type": "stream",
     "text": [
      "\n",
      "→ Extracting 3172 tiles from 'TCGA-AA-3869' at level 1\n"
     ]
    },
    {
     "data": {
      "application/vnd.jupyter.widget-view+json": {
       "model_id": "c64d996f17e042c795b0896d75dbd456",
       "version_major": 2,
       "version_minor": 0
      },
      "text/plain": [
       "TCGA-AA-3869:   0%|          | 0/3172 [00:00<?, ?it/s]"
      ]
     },
     "metadata": {},
     "output_type": "display_data"
    },
    {
     "name": "stdout",
     "output_type": "stream",
     "text": [
      "\n",
      "→ Extracting 11880 tiles from 'TCGA-AA-3815' at level 1\n"
     ]
    },
    {
     "data": {
      "application/vnd.jupyter.widget-view+json": {
       "model_id": "581e8d9dcbc3402395a8ec9c21d3bb91",
       "version_major": 2,
       "version_minor": 0
      },
      "text/plain": [
       "TCGA-AA-3815:   0%|          | 0/11880 [00:00<?, ?it/s]"
      ]
     },
     "metadata": {},
     "output_type": "display_data"
    },
    {
     "name": "stdout",
     "output_type": "stream",
     "text": [
      "\n",
      "→ Extracting 3869 tiles from 'TCGA-AA-A02K' at level 1\n"
     ]
    },
    {
     "data": {
      "application/vnd.jupyter.widget-view+json": {
       "model_id": "d967121786a4470b8b0f5c05394fe2a7",
       "version_major": 2,
       "version_minor": 0
      },
      "text/plain": [
       "TCGA-AA-A02K:   0%|          | 0/3869 [00:00<?, ?it/s]"
      ]
     },
     "metadata": {},
     "output_type": "display_data"
    },
    {
     "name": "stdout",
     "output_type": "stream",
     "text": [
      "\n",
      "→ Extracting 1518 tiles from 'TCGA-AA-3538' at level 1\n"
     ]
    },
    {
     "data": {
      "application/vnd.jupyter.widget-view+json": {
       "model_id": "2c16dff4f61c4264b82e8b0f5114f2b9",
       "version_major": 2,
       "version_minor": 0
      },
      "text/plain": [
       "TCGA-AA-3538:   0%|          | 0/1518 [00:00<?, ?it/s]"
      ]
     },
     "metadata": {},
     "output_type": "display_data"
    },
    {
     "name": "stdout",
     "output_type": "stream",
     "text": [
      "\n",
      "→ Extracting 6210 tiles from 'TCGA-AA-3812' at level 1\n"
     ]
    },
    {
     "data": {
      "application/vnd.jupyter.widget-view+json": {
       "model_id": "f0fb70be43d2474cb5a0f84a616d93f1",
       "version_major": 2,
       "version_minor": 0
      },
      "text/plain": [
       "TCGA-AA-3812:   0%|          | 0/6210 [00:00<?, ?it/s]"
      ]
     },
     "metadata": {},
     "output_type": "display_data"
    },
    {
     "name": "stdout",
     "output_type": "stream",
     "text": [
      "\n",
      "→ Extracting 7050 tiles from 'TCGA-AA-3544' at level 1\n"
     ]
    },
    {
     "data": {
      "application/vnd.jupyter.widget-view+json": {
       "model_id": "b6c485c4ebd24ea3a4c36c2a9aade73f",
       "version_major": 2,
       "version_minor": 0
      },
      "text/plain": [
       "TCGA-AA-3544:   0%|          | 0/7050 [00:00<?, ?it/s]"
      ]
     },
     "metadata": {},
     "output_type": "display_data"
    },
    {
     "name": "stdout",
     "output_type": "stream",
     "text": [
      "\n",
      "→ Extracting 15853 tiles from 'TCGA-AA-3666' at level 1\n"
     ]
    },
    {
     "data": {
      "application/vnd.jupyter.widget-view+json": {
       "model_id": "53334d5a85f64dc9b61642807cc02526",
       "version_major": 2,
       "version_minor": 0
      },
      "text/plain": [
       "TCGA-AA-3666:   0%|          | 0/15853 [00:00<?, ?it/s]"
      ]
     },
     "metadata": {},
     "output_type": "display_data"
    },
    {
     "name": "stdout",
     "output_type": "stream",
     "text": [
      "\n",
      "→ Extracting 2623 tiles from 'TCGA-AA-A02W' at level 1\n"
     ]
    },
    {
     "data": {
      "application/vnd.jupyter.widget-view+json": {
       "model_id": "8da6d729c2b543459866daf0f9ba068f",
       "version_major": 2,
       "version_minor": 0
      },
      "text/plain": [
       "TCGA-AA-A02W:   0%|          | 0/2623 [00:00<?, ?it/s]"
      ]
     },
     "metadata": {},
     "output_type": "display_data"
    },
    {
     "name": "stdout",
     "output_type": "stream",
     "text": [
      "\n",
      "→ Extracting 3422 tiles from 'TCGA-AA-A01I' at level 1\n"
     ]
    },
    {
     "data": {
      "application/vnd.jupyter.widget-view+json": {
       "model_id": "2df83e089316484f84f0ed7e3e0a8275",
       "version_major": 2,
       "version_minor": 0
      },
      "text/plain": [
       "TCGA-AA-A01I:   0%|          | 0/3422 [00:00<?, ?it/s]"
      ]
     },
     "metadata": {},
     "output_type": "display_data"
    },
    {
     "name": "stdout",
     "output_type": "stream",
     "text": [
      "\n",
      "→ Extracting 2816 tiles from 'TCGA-A6-2674' at level 1\n"
     ]
    },
    {
     "data": {
      "application/vnd.jupyter.widget-view+json": {
       "model_id": "6c996e82468c4ec49c17cd058f0d6e35",
       "version_major": 2,
       "version_minor": 0
      },
      "text/plain": [
       "TCGA-A6-2674:   0%|          | 0/2816 [00:00<?, ?it/s]"
      ]
     },
     "metadata": {},
     "output_type": "display_data"
    },
    {
     "name": "stdout",
     "output_type": "stream",
     "text": [
      "\n",
      "→ Extracting 2016 tiles from 'TCGA-AA-3852' at level 1\n"
     ]
    },
    {
     "data": {
      "application/vnd.jupyter.widget-view+json": {
       "model_id": "ffbe7b39ba294319939c688cecc810ed",
       "version_major": 2,
       "version_minor": 0
      },
      "text/plain": [
       "TCGA-AA-3852:   0%|          | 0/2016 [00:00<?, ?it/s]"
      ]
     },
     "metadata": {},
     "output_type": "display_data"
    },
    {
     "name": "stdout",
     "output_type": "stream",
     "text": [
      "\n",
      "→ Extracting 2576 tiles from 'TCGA-AA-3976' at level 1\n"
     ]
    },
    {
     "data": {
      "application/vnd.jupyter.widget-view+json": {
       "model_id": "a8b620479cf34a5b85dfdf70ee694b3e",
       "version_major": 2,
       "version_minor": 0
      },
      "text/plain": [
       "TCGA-AA-3976:   0%|          | 0/2576 [00:00<?, ?it/s]"
      ]
     },
     "metadata": {},
     "output_type": "display_data"
    },
    {
     "name": "stdout",
     "output_type": "stream",
     "text": [
      "\n",
      "→ Extracting 2950 tiles from 'TCGA-AA-A01G' at level 1\n"
     ]
    },
    {
     "data": {
      "application/vnd.jupyter.widget-view+json": {
       "model_id": "4e08f898ce544854b422e952a14f2c18",
       "version_major": 2,
       "version_minor": 0
      },
      "text/plain": [
       "TCGA-AA-A01G:   0%|          | 0/2950 [00:00<?, ?it/s]"
      ]
     },
     "metadata": {},
     "output_type": "display_data"
    },
    {
     "name": "stdout",
     "output_type": "stream",
     "text": [
      "\n",
      "→ Extracting 13589 tiles from 'TCGA-AA-3971' at level 1\n"
     ]
    },
    {
     "data": {
      "application/vnd.jupyter.widget-view+json": {
       "model_id": "3673ab5d7a3d403481fc95d301e3bedc",
       "version_major": 2,
       "version_minor": 0
      },
      "text/plain": [
       "TCGA-AA-3971:   0%|          | 0/13589 [00:00<?, ?it/s]"
      ]
     },
     "metadata": {},
     "output_type": "display_data"
    },
    {
     "name": "stdout",
     "output_type": "stream",
     "text": [
      "\n",
      "→ Extracting 4864 tiles from 'TCGA-AA-3855' at level 1\n"
     ]
    },
    {
     "data": {
      "application/vnd.jupyter.widget-view+json": {
       "model_id": "e1a78bf931c84360b5965085f9032067",
       "version_major": 2,
       "version_minor": 0
      },
      "text/plain": [
       "TCGA-AA-3855:   0%|          | 0/4864 [00:00<?, ?it/s]"
      ]
     },
     "metadata": {},
     "output_type": "display_data"
    },
    {
     "name": "stdout",
     "output_type": "stream",
     "text": [
      "\n",
      "✅ All done!\n"
     ]
    }
   ],
   "source": [
    "for slide_path in slide_paths:\n",
    "    slide_name = os.path.splitext(os.path.basename(slide_path))[0]\n",
    "    slide_out_dir = os.path.join(output_dir, slide_name)\n",
    "\n",
    "    if os.path.isdir(slide_out_dir):\n",
    "        print(f\"Skipping '{slide_name}' — tiles already exist.\")\n",
    "        continue\n",
    "\n",
    "    extract_tiles_from_slide(slide_path)\n",
    "\n",
    "print(\"\\nAll done!\")"
   ]
  }
 ],
 "metadata": {
  "kernelspec": {
   "display_name": "CLAM",
   "language": "python",
   "name": "clam_latest"
  },
  "language_info": {
   "codemirror_mode": {
    "name": "ipython",
    "version": 3
   },
   "file_extension": ".py",
   "mimetype": "text/x-python",
   "name": "python",
   "nbconvert_exporter": "python",
   "pygments_lexer": "ipython3",
   "version": "3.10.0"
  }
 },
 "nbformat": 4,
 "nbformat_minor": 5
}
