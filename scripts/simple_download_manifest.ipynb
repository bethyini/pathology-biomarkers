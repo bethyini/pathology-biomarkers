{
 "cells": [
  {
   "cell_type": "code",
   "execution_count": null,
   "id": "0927b006-17e1-47d2-bf4f-61d862991751",
   "metadata": {},
   "outputs": [],
   "source": [
    "!wget https://gdc.cancer.gov/files/public/file/gdc-client_v1.6.1_Ubuntu14.04_x64.zip\n",
    "!unzip gdc-client"
   ]
  },
  {
   "cell_type": "code",
   "execution_count": null,
   "id": "2caef432-683d-4449-8b46-dd520cb62ba7",
   "metadata": {},
   "outputs": [],
   "source": [
    "!chmod +x gdc-client"
   ]
  },
  {
   "cell_type": "code",
   "execution_count": null,
   "id": "bd3dd536-d8da-4d80-a46f-6b3a43f18a1a",
   "metadata": {},
   "outputs": [],
   "source": [
    "!gdc-client download -m gdc_ffpe_coad_h5_manifest.tsv -d TCGA_COAD_FFPE_H5"
   ]
  }
 ],
 "metadata": {
  "kernelspec": {
   "display_name": "CLAM",
   "language": "python",
   "name": "clam_latest"
  },
  "language_info": {
   "codemirror_mode": {
    "name": "ipython",
    "version": 3
   },
   "file_extension": ".py",
   "mimetype": "text/x-python",
   "name": "python",
   "nbconvert_exporter": "python",
   "pygments_lexer": "ipython3",
   "version": "3.10.0"
  }
 },
 "nbformat": 4,
 "nbformat_minor": 5
}
