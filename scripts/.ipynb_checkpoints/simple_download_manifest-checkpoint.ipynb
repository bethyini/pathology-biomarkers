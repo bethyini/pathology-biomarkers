{
 "cells": [
  {
   "cell_type": "code",
   "execution_count": null,
   "id": "0927b006-17e1-47d2-bf4f-61d862991751",
   "metadata": {},
   "outputs": [],
   "source": [
    "!wget https://gdc.cancer.gov/files/public/file/gdc-client_v1.6.1_Ubuntu14.04_x64.zip\n",
    "!unzip gdc-client"
   ]
  },
  {
   "cell_type": "code",
   "execution_count": null,
   "id": "2caef432-683d-4449-8b46-dd520cb62ba7",
   "metadata": {},
   "outputs": [],
   "source": [
    "!chmod +x gdc-client"
   ]
  },
  {
   "cell_type": "code",
   "execution_count": 3,
   "id": "dbd2c777-89b5-47c3-bc9e-fbf07cad8ae4",
   "metadata": {},
   "outputs": [
    {
     "name": "stdout",
     "output_type": "stream",
     "text": [
      "Done: 0 entries written to gdc_ffpe_coad_h5_manifest.tsv\n"
     ]
    }
   ],
   "source": [
    "import requests\n",
    "import json\n",
    "import pandas as pd\n",
    "\n",
    "def generate_ffpe_h5_manifest_all(project_id=\"TCGA-COAD\",\n",
    "                                  output_manifest=\"gdc_ffpe_coad_h5_manifest.tsv\",\n",
    "                                  page_size=500):\n",
    "    \"\"\"\n",
    "    Query GDC for ALL .h5 files from FFPE TCGA-COAD samples, \n",
    "    page through results, and write a two‑column manifest TSV.\n",
    "\n",
    "    Parameters:\n",
    "    - project_id:      GDC project to query (default \"TCGA-COAD\")\n",
    "    - output_manifest: output TSV filename (file_id<TAB>file_name)\n",
    "    - page_size:       number of records per API page (max 2000)\n",
    "    \"\"\"\n",
    "    endpoint = \"https://api.gdc.cancer.gov/files\"\n",
    "    records = []\n",
    "    offset = 0\n",
    "\n",
    "    while True:\n",
    "        # build filter tree\n",
    "        filters = {\n",
    "            \"op\": \"and\",\n",
    "            \"content\": [\n",
    "                { \"op\": \"in\",\n",
    "                  \"content\": {\n",
    "                      \"field\": \"cases.project.project_id\",\n",
    "                      \"value\": [project_id]\n",
    "                  }\n",
    "                },\n",
    "                { \"op\": \"regexp\",\n",
    "                  \"content\": {\n",
    "                      \"field\": \"file_name\",\n",
    "                      \"value\": \"\\\\.h5$\"\n",
    "                  }\n",
    "                },\n",
    "                # { \"op\": \"in\",\n",
    "                #   \"content\": {\n",
    "                #       \"field\": \"cases.samples.sample_preservation_method\",\n",
    "                #       \"value\": [\"FFPE\"]\n",
    "                #   }\n",
    "                # }\n",
    "            ]\n",
    "        }\n",
    "\n",
    "        params = {\n",
    "            \"filters\": json.dumps(filters),\n",
    "            \"fields\": \"file_id,file_name\",\n",
    "            \"format\": \"JSON\",\n",
    "            \"size\": page_size,\n",
    "            \"from\": offset\n",
    "        }\n",
    "\n",
    "        resp = requests.get(endpoint, params=params)\n",
    "        resp.raise_for_status()\n",
    "        hits = resp.json()[\"data\"][\"hits\"]\n",
    "        if not hits:\n",
    "            break\n",
    "\n",
    "        for f in hits:\n",
    "            records.append((f[\"file_id\"], f[\"file_name\"]))\n",
    "\n",
    "        offset += len(hits)\n",
    "        print(f\"  → fetched {len(records)} records so far…\")\n",
    "\n",
    "    # write TSV\n",
    "    df = pd.DataFrame(records, columns=[\"id\", \"file_name\"])\n",
    "    df.to_csv(output_manifest, sep=\"\\t\", index=False)\n",
    "    print(f\"Done: {len(records)} entries written to {output_manifest}\")\n",
    "\n",
    "generate_ffpe_h5_manifest_all()\n"
   ]
  },
  {
   "cell_type": "code",
   "execution_count": null,
   "id": "bd3dd536-d8da-4d80-a46f-6b3a43f18a1a",
   "metadata": {},
   "outputs": [],
   "source": [
    "!gdc-client download -m gdc_ffpe_coad_h5_manifest.tsv -d TCGA_COAD_FFPE_H5"
   ]
  }
 ],
 "metadata": {
  "kernelspec": {
   "display_name": "CLAM",
   "language": "python",
   "name": "clam_latest"
  },
  "language_info": {
   "codemirror_mode": {
    "name": "ipython",
    "version": 3
   },
   "file_extension": ".py",
   "mimetype": "text/x-python",
   "name": "python",
   "nbconvert_exporter": "python",
   "pygments_lexer": "ipython3",
   "version": "3.10.0"
  }
 },
 "nbformat": 4,
 "nbformat_minor": 5
}
