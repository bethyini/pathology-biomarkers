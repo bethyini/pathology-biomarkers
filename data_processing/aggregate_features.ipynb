{
 "cells": [
  {
   "cell_type": "markdown",
   "id": "ac800904-3927-4f25-8005-71cfab976ad3",
   "metadata": {
    "jp-MarkdownHeadingCollapsed": true
   },
   "source": [
    "## Look at the data\n",
    "- in the TCGA-COAD folder there are 442 h5 files that each correspond to a WSI. Each h5 folder has thousands of numpy array features for each patch of the WSI."
   ]
  },
  {
   "cell_type": "code",
   "execution_count": 2,
   "id": "ea4f9964-3c2b-488c-bc0b-6ffe88d07d80",
   "metadata": {},
   "outputs": [
    {
     "name": "stdout",
     "output_type": "stream",
     "text": [
      "Number of .h5 files in UNI2-h_features/TCGA-COAD: 442\n",
      "First 5 files: ['.ipynb_checkpoints', 'TCGA-3L-AA1B-01Z-00-DX1.8923A151-A690-40B7-9E5A-FCBEDFC2394F.h5', 'TCGA-3L-AA1B-01Z-00-DX2.17CE3683-F4B1-4978-A281-8F620C4D77B4.h5', 'TCGA-4N-A93T-01Z-00-DX1.82E240B1-22C3-46E3-891F-0DCE35C43F8B.h5', 'TCGA-4N-A93T-01Z-00-DX2.875E7F95-A6D4-4BEB-A331-F9D8080898C2.h5']\n"
     ]
    }
   ],
   "source": [
    "import os\n",
    "\n",
    "folder_path = \"UNI2-h_features/TCGA-COAD\"\n",
    "\n",
    "# Count number of .h5 files\n",
    "num_h5_files = len([f for f in os.listdir(folder_path) if f.endswith(\".h5\")])\n",
    "print(f\"Number of .h5 files in {folder_path}: {num_h5_files}\")\n",
    "\n",
    "# Preview first 5 filenames\n",
    "print(\"First 5 files:\", sorted(os.listdir(folder_path))[:5])\n"
   ]
  },
  {
   "cell_type": "code",
   "execution_count": 11,
   "id": "8ef3d8a6-8d0f-4e0c-ad25-d039d047ba37",
   "metadata": {},
   "outputs": [
    {
     "name": "stdout",
     "output_type": "stream",
     "text": [
      "Keys: ['annots', 'coords', 'coords_patching', 'features']\n",
      "features shape: (1, 14853, 1536)\n",
      "coords shape: (1, 14853, 2)\n",
      "First feature vector: [-0.24655764  0.21954072 -0.11068739 ...  0.09347688  0.39546552\n",
      "  0.32493556]\n",
      "Second feature vector: [-0.20793374  0.61069363  0.02949323 ...  0.12355845  0.43776366\n",
      "  0.24911475]\n",
      "First patch coordinates: [ 3072 51200]\n",
      "number of features:  14853\n",
      "<class 'numpy.ndarray'>\n",
      "(1536,)\n"
     ]
    }
   ],
   "source": [
    "import h5py\n",
    "import numpy as np\n",
    "\n",
    "h5_path = \"UNI2-h_features/TCGA-COAD/TCGA-3L-AA1B-01Z-00-DX1.8923A151-A690-40B7-9E5A-FCBEDFC2394F.h5\"\n",
    "\n",
    "with h5py.File(h5_path, \"r\") as f:\n",
    "    print(\"Keys:\", list(f.keys()))\n",
    "    print(\"features shape:\", f['features'].shape)\n",
    "    print(\"coords shape:\", f['coords'].shape)\n",
    "\n",
    "    features = f['features'][:].squeeze(0)  # shape (N, 1536)\n",
    "    coords = f['coords'][:].squeeze(0)      # shape (N, 2)\n",
    "    \n",
    "    print(\"First feature vector:\", features[0])\n",
    "    print(\"Second feature vector:\", features[1])\n",
    "    print(\"First patch coordinates:\", coords[0])\n",
    "\n",
    "    print(\"number of features: \", len(features))\n",
    "    print(type(features[0]))\n",
    "    print(np.shape(features[0]))\n"
   ]
  },
  {
   "cell_type": "markdown",
   "id": "ba9a2f43-0dbf-4a6b-b87c-99c7e793f8b4",
   "metadata": {},
   "source": [
    "## Aggregate the features per WSI"
   ]
  },
  {
   "cell_type": "code",
   "execution_count": null,
   "id": "405f70c4-9604-4109-9a1a-1feff557939a",
   "metadata": {},
   "outputs": [],
   "source": []
  }
 ],
 "metadata": {
  "kernelspec": {
   "display_name": "Python (uni-env)",
   "language": "python",
   "name": "uni-env"
  },
  "language_info": {
   "codemirror_mode": {
    "name": "ipython",
    "version": 3
   },
   "file_extension": ".py",
   "mimetype": "text/x-python",
   "name": "python",
   "nbconvert_exporter": "python",
   "pygments_lexer": "ipython3",
   "version": "3.11.3"
  }
 },
 "nbformat": 4,
 "nbformat_minor": 5
}
